{
 "cells": [
  {
   "cell_type": "raw",
   "id": "0f8a0ef1-1a8d-4704-8e90-441f3aba5161",
   "metadata": {},
   "source": [
    "숫자형"
   ]
  },
  {
   "cell_type": "markdown",
   "id": "a5cf4455-c6cd-4fcb-bfb1-2b76a700207f",
   "metadata": {},
   "source": [
    "# 숫자형"
   ]
  },
  {
   "cell_type": "code",
   "execution_count": 1,
   "id": "795822de-fbdd-4c65-82a7-afe618da6f4b",
   "metadata": {},
   "outputs": [],
   "source": [
    "a = 123"
   ]
  },
  {
   "cell_type": "code",
   "execution_count": 2,
   "id": "8e55d98d-3256-4675-beeb-418ca9ba7e09",
   "metadata": {},
   "outputs": [
    {
     "name": "stdout",
     "output_type": "stream",
     "text": [
      "123\n"
     ]
    }
   ],
   "source": [
    "print(a)"
   ]
  },
  {
   "cell_type": "code",
   "execution_count": 4,
   "id": "c7262dec-4b2f-48e5-b36a-949a1ad6810f",
   "metadata": {},
   "outputs": [
    {
     "data": {
      "text/plain": [
       "123"
      ]
     },
     "execution_count": 4,
     "metadata": {},
     "output_type": "execute_result"
    }
   ],
   "source": [
    "a"
   ]
  },
  {
   "cell_type": "code",
   "execution_count": 5,
   "id": "4b429d25-0217-4fa4-9d66-6f2fe587dfcd",
   "metadata": {},
   "outputs": [],
   "source": [
    "b = 456"
   ]
  },
  {
   "cell_type": "code",
   "execution_count": 7,
   "id": "2f55eaed-7870-4b21-ac93-465431a08825",
   "metadata": {},
   "outputs": [
    {
     "name": "stdout",
     "output_type": "stream",
     "text": [
      "123\n"
     ]
    },
    {
     "data": {
      "text/plain": [
       "456"
      ]
     },
     "execution_count": 7,
     "metadata": {},
     "output_type": "execute_result"
    }
   ],
   "source": [
    "print(a)\n",
    "b"
   ]
  },
  {
   "cell_type": "code",
   "execution_count": 8,
   "id": "a135f1f8-2c89-4ce1-b4b8-fc41cdf35daa",
   "metadata": {},
   "outputs": [
    {
     "data": {
      "text/plain": [
       "(123, 456)"
      ]
     },
     "execution_count": 8,
     "metadata": {},
     "output_type": "execute_result"
    }
   ],
   "source": [
    "a, b"
   ]
  },
  {
   "cell_type": "code",
   "execution_count": 9,
   "id": "a13f8655-be60-4a92-a7c7-991bd5fa1f87",
   "metadata": {},
   "outputs": [
    {
     "data": {
      "text/plain": [
       "int"
      ]
     },
     "execution_count": 9,
     "metadata": {},
     "output_type": "execute_result"
    }
   ],
   "source": [
    "type(a)"
   ]
  },
  {
   "cell_type": "code",
   "execution_count": 11,
   "id": "22c522ca-2815-4c2f-b56e-4195b8493a76",
   "metadata": {},
   "outputs": [
    {
     "data": {
      "text/plain": [
       "1.9"
      ]
     },
     "execution_count": 11,
     "metadata": {},
     "output_type": "execute_result"
    }
   ],
   "source": [
    "a = 1.9\n",
    "a"
   ]
  },
  {
   "cell_type": "code",
   "execution_count": 12,
   "id": "0c5664d8-23be-4981-a241-52644ea5d0be",
   "metadata": {},
   "outputs": [
    {
     "data": {
      "text/plain": [
       "float"
      ]
     },
     "execution_count": 12,
     "metadata": {},
     "output_type": "execute_result"
    }
   ],
   "source": [
    "type(a)"
   ]
  },
  {
   "cell_type": "code",
   "execution_count": 13,
   "id": "d2710ad6-bb2f-4ab9-a431-ad6c1b88f726",
   "metadata": {},
   "outputs": [
    {
     "name": "stdout",
     "output_type": "stream",
     "text": [
      "\n"
     ]
    }
   ],
   "source": [
    "print()"
   ]
  },
  {
   "cell_type": "code",
   "execution_count": 14,
   "id": "a9178d03-3081-4878-9713-807047ea7718",
   "metadata": {
    "collapsed": true,
    "jupyter": {
     "outputs_hidden": true
    },
    "tags": []
   },
   "outputs": [
    {
     "data": {
      "text/plain": [
       "\u001b[0;31mDocstring:\u001b[0m\n",
       "print(value, ..., sep=' ', end='\\n', file=sys.stdout, flush=False)\n",
       "\n",
       "Prints the values to a stream, or to sys.stdout by default.\n",
       "Optional keyword arguments:\n",
       "file:  a file-like object (stream); defaults to the current sys.stdout.\n",
       "sep:   string inserted between values, default a space.\n",
       "end:   string appended after the last value, default a newline.\n",
       "flush: whether to forcibly flush the stream.\n",
       "\u001b[0;31mType:\u001b[0m      builtin_function_or_method\n"
      ]
     },
     "metadata": {},
     "output_type": "display_data"
    }
   ],
   "source": [
    "print?"
   ]
  },
  {
   "cell_type": "code",
   "execution_count": 15,
   "id": "08e18601-19d0-4938-9b11-6a9abf8b22a4",
   "metadata": {
    "collapsed": true,
    "jupyter": {
     "outputs_hidden": true
    },
    "tags": []
   },
   "outputs": [
    {
     "name": "stdout",
     "output_type": "stream",
     "text": [
      "Help on built-in function print in module builtins:\n",
      "\n",
      "print(...)\n",
      "    print(value, ..., sep=' ', end='\\n', file=sys.stdout, flush=False)\n",
      "    \n",
      "    Prints the values to a stream, or to sys.stdout by default.\n",
      "    Optional keyword arguments:\n",
      "    file:  a file-like object (stream); defaults to the current sys.stdout.\n",
      "    sep:   string inserted between values, default a space.\n",
      "    end:   string appended after the last value, default a newline.\n",
      "    flush: whether to forcibly flush the stream.\n",
      "\n"
     ]
    }
   ],
   "source": [
    "help(print)"
   ]
  },
  {
   "cell_type": "code",
   "execution_count": 16,
   "id": "298d9d00-5424-4d71-9951-7820f6d44c0d",
   "metadata": {
    "collapsed": true,
    "jupyter": {
     "outputs_hidden": true
    },
    "tags": []
   },
   "outputs": [
    {
     "data": {
      "text/plain": [
       "\u001b[0;31mSignature:\u001b[0m \u001b[0minput\u001b[0m\u001b[0;34m(\u001b[0m\u001b[0mprompt\u001b[0m\u001b[0;34m=\u001b[0m\u001b[0;34m''\u001b[0m\u001b[0;34m)\u001b[0m\u001b[0;34m\u001b[0m\u001b[0;34m\u001b[0m\u001b[0m\n",
       "\u001b[0;31mDocstring:\u001b[0m\n",
       "Forward raw_input to frontends\n",
       "\n",
       "Raises\n",
       "------\n",
       "StdinNotImplementedError if active frontend doesn't support stdin.\n",
       "\u001b[0;31mFile:\u001b[0m      /opt/anaconda3/lib/python3.9/site-packages/ipykernel/kernelbase.py\n",
       "\u001b[0;31mType:\u001b[0m      method\n"
      ]
     },
     "metadata": {},
     "output_type": "display_data"
    }
   ],
   "source": [
    "input?"
   ]
  },
  {
   "cell_type": "code",
   "execution_count": 17,
   "id": "3246a78f-8b6d-46f7-b8c9-bd0bf2e2bd45",
   "metadata": {},
   "outputs": [
    {
     "name": "stdin",
     "output_type": "stream",
     "text": [
      "숫자를 입력하세요 11232323343482957485624598324\n"
     ]
    },
    {
     "data": {
      "text/plain": [
       "'11232323343482957485624598324'"
      ]
     },
     "execution_count": 17,
     "metadata": {},
     "output_type": "execute_result"
    }
   ],
   "source": [
    "input('숫자를 입력하세요')"
   ]
  },
  {
   "cell_type": "code",
   "execution_count": 19,
   "id": "1a87d121-e23b-4065-ae96-ebf464f2481f",
   "metadata": {},
   "outputs": [
    {
     "name": "stdin",
     "output_type": "stream",
     "text": [
      "숫자를 입력하세요 >>> 12345\n"
     ]
    }
   ],
   "source": [
    "num1 = input('숫자를 입력하세요 >>>')"
   ]
  },
  {
   "cell_type": "code",
   "execution_count": 20,
   "id": "f50a0b12-507b-461b-8861-ca99819fc9b8",
   "metadata": {},
   "outputs": [
    {
     "name": "stdout",
     "output_type": "stream",
     "text": [
      "12345\n"
     ]
    }
   ],
   "source": [
    "print(num1)"
   ]
  },
  {
   "cell_type": "code",
   "execution_count": 21,
   "id": "59cb48c7-6430-4db7-b0f7-c823956c32c1",
   "metadata": {},
   "outputs": [
    {
     "data": {
      "text/plain": [
       "str"
      ]
     },
     "execution_count": 21,
     "metadata": {},
     "output_type": "execute_result"
    }
   ],
   "source": [
    "type(num1)"
   ]
  },
  {
   "cell_type": "code",
   "execution_count": 23,
   "id": "c13148d4-622d-4187-9d59-b579eace1db1",
   "metadata": {},
   "outputs": [],
   "source": [
    "# 박스에 과일을 넣는 작업 중입니다\n",
    "# 박스당 들어가는 과일의 갯수와 전체 과일의 갯수를 입력 받아서\n",
    "# 몇 박스 몇 개가 남는지 출력합니다"
   ]
  },
  {
   "cell_type": "code",
   "execution_count": 24,
   "id": "6a05d551-2d4a-4bae-949f-9bc400434785",
   "metadata": {},
   "outputs": [
    {
     "name": "stdin",
     "output_type": "stream",
     "text": [
      "과읠의 갯수를 입력하세요 20\n",
      "박스의 갯수를 입력하세요 3\n"
     ]
    }
   ],
   "source": [
    "num1 = input('과읠의 갯수를 입력하세요')\n",
    "num2 = input('박스의 갯수를 입력하세요')"
   ]
  },
  {
   "cell_type": "code",
   "execution_count": 25,
   "id": "7b41aedd-e252-4e2f-a73c-6c2240a4535b",
   "metadata": {},
   "outputs": [
    {
     "name": "stdin",
     "output_type": "stream",
     "text": [
      "과일의 갯수를 입력하세요 20\n"
     ]
    }
   ],
   "source": [
    "num1 = input('과일의 갯수를 입력하세요')"
   ]
  },
  {
   "cell_type": "code",
   "execution_count": 26,
   "id": "a206467f-4831-4395-87d6-e55b4ae96cbf",
   "metadata": {},
   "outputs": [
    {
     "name": "stdin",
     "output_type": "stream",
     "text": [
      "박스 1개에 들어가는 과일의 수 5\n"
     ]
    }
   ],
   "source": [
    "num2 = input('박스 1개에 들어가는 과일의 수')"
   ]
  },
  {
   "cell_type": "code",
   "execution_count": 27,
   "id": "74eadf0e-9df4-4596-ac5f-4226d3ebb3bf",
   "metadata": {
    "collapsed": true,
    "jupyter": {
     "outputs_hidden": true
    },
    "tags": []
   },
   "outputs": [
    {
     "ename": "TypeError",
     "evalue": "unsupported operand type(s) for /: 'str' and 'str'",
     "output_type": "error",
     "traceback": [
      "\u001b[0;31m---------------------------------------------------------------------------\u001b[0m",
      "\u001b[0;31mTypeError\u001b[0m                                 Traceback (most recent call last)",
      "Input \u001b[0;32mIn [27]\u001b[0m, in \u001b[0;36m<cell line: 1>\u001b[0;34m()\u001b[0m\n\u001b[0;32m----> 1\u001b[0m num3 \u001b[38;5;241m=\u001b[39m \u001b[43mnum1\u001b[49m\u001b[43m \u001b[49m\u001b[38;5;241;43m/\u001b[39;49m\u001b[43m \u001b[49m\u001b[43mnum2\u001b[49m\n",
      "\u001b[0;31mTypeError\u001b[0m: unsupported operand type(s) for /: 'str' and 'str'"
     ]
    }
   ],
   "source": [
    "num3 = num1 / num2"
   ]
  },
  {
   "cell_type": "code",
   "execution_count": 28,
   "id": "225c7771-1a60-446a-8a42-ee2eb16e3f5c",
   "metadata": {},
   "outputs": [],
   "source": [
    "num3 = int(num1) / int(num2)"
   ]
  },
  {
   "cell_type": "code",
   "execution_count": 29,
   "id": "0cb62555-2ac2-469a-94c4-acfc39e6d541",
   "metadata": {},
   "outputs": [
    {
     "data": {
      "text/plain": [
       "4.0"
      ]
     },
     "execution_count": 29,
     "metadata": {},
     "output_type": "execute_result"
    }
   ],
   "source": [
    "num3"
   ]
  },
  {
   "cell_type": "code",
   "execution_count": 30,
   "id": "e42d5598-2fd8-4398-a6dc-6755b8d9238e",
   "metadata": {},
   "outputs": [],
   "source": [
    "num4 = int(num1) % int(num2)"
   ]
  },
  {
   "cell_type": "code",
   "execution_count": 31,
   "id": "03d69098-bd1c-47f9-851e-6f3aec201963",
   "metadata": {
    "collapsed": true,
    "jupyter": {
     "outputs_hidden": true
    },
    "tags": []
   },
   "outputs": [
    {
     "ename": "TypeError",
     "evalue": "can only concatenate str (not \"float\") to str",
     "output_type": "error",
     "traceback": [
      "\u001b[0;31m---------------------------------------------------------------------------\u001b[0m",
      "\u001b[0;31mTypeError\u001b[0m                                 Traceback (most recent call last)",
      "Input \u001b[0;32mIn [31]\u001b[0m, in \u001b[0;36m<cell line: 1>\u001b[0;34m()\u001b[0m\n\u001b[0;32m----> 1\u001b[0m \u001b[38;5;28mprint\u001b[39m(\u001b[38;5;124;43m'\u001b[39;49m\u001b[38;5;124;43m박스의 갯수 : \u001b[39;49m\u001b[38;5;124;43m'\u001b[39;49m\u001b[43m \u001b[49m\u001b[38;5;241;43m+\u001b[39;49m\u001b[43m \u001b[49m\u001b[43mnum3\u001b[49m)\n\u001b[1;32m      2\u001b[0m \u001b[38;5;28mprint\u001b[39m(\u001b[38;5;124m'\u001b[39m\u001b[38;5;124m남는 과일의 갯수 :\u001b[39m\u001b[38;5;124m'\u001b[39m \u001b[38;5;241m+\u001b[39m num4)\n",
      "\u001b[0;31mTypeError\u001b[0m: can only concatenate str (not \"float\") to str"
     ]
    }
   ],
   "source": [
    "print('박스의 갯수 : ' + num3)\n",
    "print('남는 과일의 갯수 :' + num4)"
   ]
  },
  {
   "cell_type": "code",
   "execution_count": 32,
   "id": "70ebfb96-fcff-4b59-acf0-5fb1edbbd390",
   "metadata": {},
   "outputs": [
    {
     "name": "stdout",
     "output_type": "stream",
     "text": [
      "박스의 갯수 :  4.0\n",
      "남는 과일의 갯수 : 0\n"
     ]
    }
   ],
   "source": [
    "print('박스의 갯수 : ', num3)\n",
    "print('남는 과일의 갯수 :', num4)"
   ]
  },
  {
   "cell_type": "code",
   "execution_count": 33,
   "id": "3ab61db2-f350-47f5-832d-2349d6f4205d",
   "metadata": {
    "collapsed": true,
    "jupyter": {
     "outputs_hidden": true
    },
    "tags": []
   },
   "outputs": [
    {
     "name": "stdin",
     "output_type": "stream",
     "text": [
      "전체 과일의 갯수 >>> 120\n",
      "박스당 과일의 갯수 >>> 8\n"
     ]
    },
    {
     "ename": "TypeError",
     "evalue": "unsupported operand type(s) for //: 'str' and 'str'",
     "output_type": "error",
     "traceback": [
      "\u001b[0;31m---------------------------------------------------------------------------\u001b[0m",
      "\u001b[0;31mTypeError\u001b[0m                                 Traceback (most recent call last)",
      "Input \u001b[0;32mIn [33]\u001b[0m, in \u001b[0;36m<cell line: 3>\u001b[0;34m()\u001b[0m\n\u001b[1;32m      1\u001b[0m total \u001b[38;5;241m=\u001b[39m \u001b[38;5;28minput\u001b[39m(\u001b[38;5;124m'\u001b[39m\u001b[38;5;124m전체 과일의 갯수 >>>\u001b[39m\u001b[38;5;124m'\u001b[39m)\n\u001b[1;32m      2\u001b[0m box_count \u001b[38;5;241m=\u001b[39m \u001b[38;5;28minput\u001b[39m(\u001b[38;5;124m'\u001b[39m\u001b[38;5;124m박스당 과일의 갯수 >>>\u001b[39m\u001b[38;5;124m'\u001b[39m)\n\u001b[0;32m----> 3\u001b[0m box \u001b[38;5;241m=\u001b[39m \u001b[43mtotal\u001b[49m\u001b[43m \u001b[49m\u001b[38;5;241;43m/\u001b[39;49m\u001b[38;5;241;43m/\u001b[39;49m\u001b[43m \u001b[49m\u001b[43mbox_count\u001b[49m\n\u001b[1;32m      4\u001b[0m count \u001b[38;5;241m=\u001b[39m total \u001b[38;5;241m%\u001b[39m box_count\n\u001b[1;32m      5\u001b[0m \u001b[38;5;28mprint\u001b[39m(box, \u001b[38;5;124m'\u001b[39m\u001b[38;5;124m박스, \u001b[39m\u001b[38;5;124m'\u001b[39m, count, \u001b[38;5;124m'\u001b[39m\u001b[38;5;124m개\u001b[39m\u001b[38;5;124m'\u001b[39m)\n",
      "\u001b[0;31mTypeError\u001b[0m: unsupported operand type(s) for //: 'str' and 'str'"
     ]
    }
   ],
   "source": [
    "total = input('전체 과일의 갯수 >>>')\n",
    "box_count = input('박스당 과일의 갯수 >>>')\n",
    "box = total // box_count\n",
    "count = total % box_count\n",
    "print(box, '박스, ', count, '개')"
   ]
  },
  {
   "cell_type": "code",
   "execution_count": 34,
   "id": "d3de1fc3-5f0f-4147-849d-972fe015b999",
   "metadata": {
    "collapsed": true,
    "jupyter": {
     "outputs_hidden": true
    },
    "tags": []
   },
   "outputs": [
    {
     "name": "stdin",
     "output_type": "stream",
     "text": [
      "전체 과일의 갯수 >>> 120\n",
      "박스당 과일의 갯수 >>> 8\n"
     ]
    },
    {
     "ename": "TypeError",
     "evalue": "unsupported operand type(s) for //: 'str' and 'str'",
     "output_type": "error",
     "traceback": [
      "\u001b[0;31m---------------------------------------------------------------------------\u001b[0m",
      "\u001b[0;31mTypeError\u001b[0m                                 Traceback (most recent call last)",
      "Input \u001b[0;32mIn [34]\u001b[0m, in \u001b[0;36m<cell line: 3>\u001b[0;34m()\u001b[0m\n\u001b[1;32m      1\u001b[0m total \u001b[38;5;241m=\u001b[39m \u001b[38;5;28minput\u001b[39m(\u001b[38;5;124m'\u001b[39m\u001b[38;5;124m전체 과일의 갯수 >>>\u001b[39m\u001b[38;5;124m'\u001b[39m)\n\u001b[1;32m      2\u001b[0m box_count \u001b[38;5;241m=\u001b[39m \u001b[38;5;28minput\u001b[39m(\u001b[38;5;124m'\u001b[39m\u001b[38;5;124m박스당 과일의 갯수 >>>\u001b[39m\u001b[38;5;124m'\u001b[39m)\n\u001b[0;32m----> 3\u001b[0m box \u001b[38;5;241m=\u001b[39m \u001b[38;5;28mint\u001b[39m(\u001b[43mtotal\u001b[49m\u001b[43m \u001b[49m\u001b[38;5;241;43m/\u001b[39;49m\u001b[38;5;241;43m/\u001b[39;49m\u001b[43m \u001b[49m\u001b[43mbox_count\u001b[49m)\n\u001b[1;32m      4\u001b[0m count \u001b[38;5;241m=\u001b[39m \u001b[38;5;28mint\u001b[39m(total \u001b[38;5;241m%\u001b[39m box_count)\n\u001b[1;32m      5\u001b[0m \u001b[38;5;28mprint\u001b[39m(box, \u001b[38;5;124m'\u001b[39m\u001b[38;5;124m박스, \u001b[39m\u001b[38;5;124m'\u001b[39m, count, \u001b[38;5;124m'\u001b[39m\u001b[38;5;124m개\u001b[39m\u001b[38;5;124m'\u001b[39m)\n",
      "\u001b[0;31mTypeError\u001b[0m: unsupported operand type(s) for //: 'str' and 'str'"
     ]
    }
   ],
   "source": [
    "total = input('전체 과일의 갯수 >>>')\n",
    "box_count = input('박스당 과일의 갯수 >>>')\n",
    "box = int(total // box_count)\n",
    "count = int(total % box_count)\n",
    "print(box, '박스, ', count, '개')"
   ]
  },
  {
   "cell_type": "code",
   "execution_count": 35,
   "id": "bd0317be-5e7d-41f6-afbd-6b32ea135028",
   "metadata": {},
   "outputs": [
    {
     "name": "stdin",
     "output_type": "stream",
     "text": [
      "전체 과일의 갯수 >>> 120\n",
      "박스당 과일의 갯수 >>> 8\n"
     ]
    },
    {
     "name": "stdout",
     "output_type": "stream",
     "text": [
      "15 박스,  0 개\n"
     ]
    }
   ],
   "source": [
    "total = int(input('전체 과일의 갯수 >>>'))\n",
    "box_count = int(input('박스당 과일의 갯수 >>>'))\n",
    "box = total // box_count\n",
    "count = total % box_count\n",
    "print(box, '박스, ', count, '개')"
   ]
  },
  {
   "cell_type": "markdown",
   "id": "cfcbdd44-d000-4921-8f00-d4f218a293dd",
   "metadata": {},
   "source": [
    "## 문자열 자료형"
   ]
  },
  {
   "cell_type": "code",
   "execution_count": 39,
   "id": "22eaf9bb-25fd-4b5f-9009-520ba79d1efa",
   "metadata": {},
   "outputs": [
    {
     "data": {
      "text/plain": [
       "\"hello 'ann'\""
      ]
     },
     "execution_count": 39,
     "metadata": {},
     "output_type": "execute_result"
    }
   ],
   "source": [
    "\"hello 'ann'\""
   ]
  },
  {
   "cell_type": "code",
   "execution_count": 40,
   "id": "cb90545b-af12-4c86-aa45-eb2f9be99f66",
   "metadata": {},
   "outputs": [
    {
     "data": {
      "text/plain": [
       "'hello \"ann\"'"
      ]
     },
     "execution_count": 40,
     "metadata": {},
     "output_type": "execute_result"
    }
   ],
   "source": [
    "'hello \"ann\"'"
   ]
  },
  {
   "cell_type": "code",
   "execution_count": 41,
   "id": "41890b08-8449-4e3e-8231-b45b6a0327f1",
   "metadata": {},
   "outputs": [
    {
     "ename": "SyntaxError",
     "evalue": "EOL while scanning string literal (2210839144.py, line 1)",
     "output_type": "error",
     "traceback": [
      "\u001b[0;36m  Input \u001b[0;32mIn [41]\u001b[0;36m\u001b[0m\n\u001b[0;31m    'hello\u001b[0m\n\u001b[0m           ^\u001b[0m\n\u001b[0;31mSyntaxError\u001b[0m\u001b[0;31m:\u001b[0m EOL while scanning string literal\n"
     ]
    }
   ],
   "source": [
    "'hello \n",
    "!!!'"
   ]
  },
  {
   "cell_type": "code",
   "execution_count": 42,
   "id": "0bd84993-300f-431d-bb62-46cefe763045",
   "metadata": {},
   "outputs": [
    {
     "data": {
      "text/plain": [
       "' hello\\n!!!\\n!!!\\n'"
      ]
     },
     "execution_count": 42,
     "metadata": {},
     "output_type": "execute_result"
    }
   ],
   "source": [
    "''' hello\n",
    "!!!\n",
    "!!!\n",
    "'''"
   ]
  },
  {
   "cell_type": "code",
   "execution_count": 43,
   "id": "f695a0d6-959a-42e9-a4cc-2c8c267c41c0",
   "metadata": {},
   "outputs": [
    {
     "ename": "SyntaxError",
     "evalue": "unexpected character after line continuation character (1418207598.py, line 1)",
     "output_type": "error",
     "traceback": [
      "\u001b[0;36m  Input \u001b[0;32mIn [43]\u001b[0;36m\u001b[0m\n\u001b[0;31m    \\a\u001b[0m\n\u001b[0m     ^\u001b[0m\n\u001b[0;31mSyntaxError\u001b[0m\u001b[0;31m:\u001b[0m unexpected character after line continuation character\n"
     ]
    }
   ],
   "source": [
    "\\a"
   ]
  },
  {
   "cell_type": "code",
   "execution_count": 44,
   "id": "fbf591ab-aef4-49e5-a6c1-b381aac4631b",
   "metadata": {},
   "outputs": [
    {
     "ename": "SyntaxError",
     "evalue": "unexpected character after line continuation character (919372642.py, line 1)",
     "output_type": "error",
     "traceback": [
      "\u001b[0;36m  Input \u001b[0;32mIn [44]\u001b[0;36m\u001b[0m\n\u001b[0;31m    print(\\a)\u001b[0m\n\u001b[0m           ^\u001b[0m\n\u001b[0;31mSyntaxError\u001b[0m\u001b[0;31m:\u001b[0m unexpected character after line continuation character\n"
     ]
    }
   ],
   "source": [
    "print(\\a)"
   ]
  },
  {
   "cell_type": "code",
   "execution_count": 45,
   "id": "1e6f67f6-3021-44b4-9e70-8262ff5b480c",
   "metadata": {},
   "outputs": [
    {
     "name": "stdout",
     "output_type": "stream",
     "text": [
      "rpr\u0007\n"
     ]
    }
   ],
   "source": [
    "print('rpr\\a')"
   ]
  },
  {
   "cell_type": "code",
   "execution_count": 46,
   "id": "3ad896cb-3054-40e8-8395-7e0ae3641d02",
   "metadata": {},
   "outputs": [
    {
     "name": "stdout",
     "output_type": "stream",
     "text": [
      "rpr\u0007\n"
     ]
    }
   ],
   "source": [
    "print('rpr\\a')"
   ]
  },
  {
   "cell_type": "code",
   "execution_count": 47,
   "id": "7353c79d-9185-4261-b6f2-ce22e46eaa6a",
   "metadata": {},
   "outputs": [
    {
     "name": "stdout",
     "output_type": "stream",
     "text": [
      "rpr\u0007\n"
     ]
    }
   ],
   "source": [
    "print('rpr\\a')"
   ]
  },
  {
   "cell_type": "code",
   "execution_count": 48,
   "id": "08013e24-83ef-4095-9048-f573c172da42",
   "metadata": {},
   "outputs": [
    {
     "name": "stdout",
     "output_type": "stream",
     "text": [
      "rpr\u0007\n"
     ]
    }
   ],
   "source": [
    "print('rpr\\a')"
   ]
  },
  {
   "cell_type": "code",
   "execution_count": 49,
   "id": "60b8fdea-1b95-4385-aeaa-be5e8bb1e78d",
   "metadata": {},
   "outputs": [
    {
     "name": "stdout",
     "output_type": "stream",
     "text": [
      "rpr\u0007\n"
     ]
    }
   ],
   "source": [
    "print('rpr\\a')"
   ]
  },
  {
   "cell_type": "code",
   "execution_count": 50,
   "id": "6ac63bc3-5106-4261-a95a-5dd8e953e2a9",
   "metadata": {},
   "outputs": [
    {
     "name": "stdout",
     "output_type": "stream",
     "text": [
      "rpr\u0007\n"
     ]
    }
   ],
   "source": [
    "print('rpr\\a')"
   ]
  },
  {
   "cell_type": "code",
   "execution_count": 51,
   "id": "7fdfd554-64ff-47e7-a284-bab023af9579",
   "metadata": {},
   "outputs": [
    {
     "data": {
      "text/plain": [
       "'1a'"
      ]
     },
     "execution_count": 51,
     "metadata": {},
     "output_type": "execute_result"
    }
   ],
   "source": [
    "'1' + 'a'"
   ]
  },
  {
   "cell_type": "code",
   "execution_count": 52,
   "id": "7da76830-38c6-4f3b-8b3f-c111c4aa6331",
   "metadata": {},
   "outputs": [
    {
     "ename": "TypeError",
     "evalue": "can't multiply sequence by non-int of type 'str'",
     "output_type": "error",
     "traceback": [
      "\u001b[0;31m---------------------------------------------------------------------------\u001b[0m",
      "\u001b[0;31mTypeError\u001b[0m                                 Traceback (most recent call last)",
      "Input \u001b[0;32mIn [52]\u001b[0m, in \u001b[0;36m<cell line: 1>\u001b[0;34m()\u001b[0m\n\u001b[0;32m----> 1\u001b[0m \u001b[38;5;124;43m'\u001b[39;49m\u001b[38;5;124;43m1\u001b[39;49m\u001b[38;5;124;43m'\u001b[39;49m\u001b[43m \u001b[49m\u001b[38;5;241;43m*\u001b[39;49m\u001b[43m \u001b[49m\u001b[38;5;124;43m'\u001b[39;49m\u001b[38;5;124;43ma\u001b[39;49m\u001b[38;5;124;43m'\u001b[39;49m\n",
      "\u001b[0;31mTypeError\u001b[0m: can't multiply sequence by non-int of type 'str'"
     ]
    }
   ],
   "source": [
    "'1' * 'a'"
   ]
  },
  {
   "cell_type": "code",
   "execution_count": 53,
   "id": "bd548c99-4d78-4f29-88c4-9fe72bcf4fa5",
   "metadata": {},
   "outputs": [
    {
     "data": {
      "text/plain": [
       "'1111'"
      ]
     },
     "execution_count": 53,
     "metadata": {},
     "output_type": "execute_result"
    }
   ],
   "source": [
    "'1' * 4"
   ]
  },
  {
   "cell_type": "code",
   "execution_count": 54,
   "id": "e88db0ce-dcba-471e-b900-31a357e1de75",
   "metadata": {},
   "outputs": [
    {
     "data": {
      "text/plain": [
       "2"
      ]
     },
     "execution_count": 54,
     "metadata": {},
     "output_type": "execute_result"
    }
   ],
   "source": [
    "len(num1)"
   ]
  },
  {
   "cell_type": "code",
   "execution_count": 55,
   "id": "48a80cbf-fbb3-4547-8ccb-c9b1a372ee62",
   "metadata": {},
   "outputs": [
    {
     "data": {
      "text/plain": [
       "17"
      ]
     },
     "execution_count": 55,
     "metadata": {},
     "output_type": "execute_result"
    }
   ],
   "source": [
    "a = 'life is too short'\n",
    "len(a)"
   ]
  },
  {
   "cell_type": "code",
   "execution_count": 56,
   "id": "52b7a524-924d-4e0c-afba-cd68c8d083fe",
   "metadata": {},
   "outputs": [
    {
     "data": {
      "text/plain": [
       "'Life is too short, You need Python'"
      ]
     },
     "execution_count": 56,
     "metadata": {},
     "output_type": "execute_result"
    }
   ],
   "source": [
    "a = 'Life is too short, You need Python'\n",
    "a"
   ]
  },
  {
   "cell_type": "code",
   "execution_count": 57,
   "id": "8203f939-f5bd-4482-b402-cd4f024c768c",
   "metadata": {},
   "outputs": [
    {
     "data": {
      "text/plain": [
       "'L'"
      ]
     },
     "execution_count": 57,
     "metadata": {},
     "output_type": "execute_result"
    }
   ],
   "source": [
    "a[0]"
   ]
  },
  {
   "cell_type": "code",
   "execution_count": 58,
   "id": "941b8623-5829-46b7-9866-0bd5920f162a",
   "metadata": {},
   "outputs": [
    {
     "data": {
      "text/plain": [
       "'n'"
      ]
     },
     "execution_count": 58,
     "metadata": {},
     "output_type": "execute_result"
    }
   ],
   "source": [
    "a[-1]"
   ]
  },
  {
   "cell_type": "code",
   "execution_count": 60,
   "id": "f7c8f98c-d27b-4a89-aad8-2901800616aa",
   "metadata": {},
   "outputs": [
    {
     "data": {
      "text/plain": [
       "'Life'"
      ]
     },
     "execution_count": 60,
     "metadata": {},
     "output_type": "execute_result"
    }
   ],
   "source": [
    "a[0:4]"
   ]
  },
  {
   "cell_type": "code",
   "execution_count": 61,
   "id": "4cdd91e6-b1f3-45c9-9ca6-b13a397007eb",
   "metadata": {},
   "outputs": [
    {
     "data": {
      "text/plain": [
       "'Life'"
      ]
     },
     "execution_count": 61,
     "metadata": {},
     "output_type": "execute_result"
    }
   ],
   "source": [
    "a[:4]"
   ]
  },
  {
   "cell_type": "code",
   "execution_count": 62,
   "id": "472eb6b3-830b-415f-8c68-83fd22aabc24",
   "metadata": {},
   "outputs": [
    {
     "data": {
      "text/plain": [
       "'Python'"
      ]
     },
     "execution_count": 62,
     "metadata": {},
     "output_type": "execute_result"
    }
   ],
   "source": [
    "a[-6:]"
   ]
  },
  {
   "cell_type": "code",
   "execution_count": 63,
   "id": "89b507f5-1a75-489f-8ccc-f72d242afc16",
   "metadata": {},
   "outputs": [],
   "source": [
    "# 주민등록 번호를 입력 받아서 생년월일과 성별을 출력하세요\n",
    "# 3항 연산자를 이용 조건 ? 참일 때 : 거짓일 떄 "
   ]
  },
  {
   "cell_type": "code",
   "execution_count": 64,
   "id": "d7a40f4d-aa36-42f0-8d82-69f123ebc6e5",
   "metadata": {},
   "outputs": [
    {
     "ename": "SyntaxError",
     "evalue": "invalid syntax (1552393543.py, line 2)",
     "output_type": "error",
     "traceback": [
      "\u001b[0;36m  Input \u001b[0;32mIn [64]\u001b[0;36m\u001b[0m\n\u001b[0;31m    num[7: 8] == '2' ? ['여자'] : ['남자']\u001b[0m\n\u001b[0m                     ^\u001b[0m\n\u001b[0;31mSyntaxError\u001b[0m\u001b[0;31m:\u001b[0m invalid syntax\n"
     ]
    }
   ],
   "source": [
    "num = print('주민등록번호를 입력하세요 >>>')\n",
    "num[7: 8] == '2' ? ['여자'] : ['남자']"
   ]
  },
  {
   "cell_type": "code",
   "execution_count": 65,
   "id": "323c6937-b513-42d4-9fb3-4bfef3f1158f",
   "metadata": {},
   "outputs": [
    {
     "name": "stdout",
     "output_type": "stream",
     "text": [
      "주민등록번호를 입력하세요 >>>\n"
     ]
    },
    {
     "ename": "TypeError",
     "evalue": "'NoneType' object is not subscriptable",
     "output_type": "error",
     "traceback": [
      "\u001b[0;31m---------------------------------------------------------------------------\u001b[0m",
      "\u001b[0;31mTypeError\u001b[0m                                 Traceback (most recent call last)",
      "Input \u001b[0;32mIn [65]\u001b[0m, in \u001b[0;36m<cell line: 2>\u001b[0;34m()\u001b[0m\n\u001b[1;32m      1\u001b[0m num \u001b[38;5;241m=\u001b[39m \u001b[38;5;28mprint\u001b[39m(\u001b[38;5;124m'\u001b[39m\u001b[38;5;124m주민등록번호를 입력하세요 >>>\u001b[39m\u001b[38;5;124m'\u001b[39m)\n\u001b[0;32m----> 2\u001b[0m [\u001b[38;5;124m'\u001b[39m\u001b[38;5;124m여자\u001b[39m\u001b[38;5;124m'\u001b[39m] \u001b[38;5;28;01mif\u001b[39;00m \u001b[43mnum\u001b[49m\u001b[43m[\u001b[49m\u001b[38;5;241;43m7\u001b[39;49m\u001b[43m]\u001b[49m \u001b[38;5;241m==\u001b[39m \u001b[38;5;124m'\u001b[39m\u001b[38;5;124m2\u001b[39m\u001b[38;5;124m'\u001b[39m \u001b[38;5;28;01melse\u001b[39;00m [\u001b[38;5;124m'\u001b[39m\u001b[38;5;124m남자\u001b[39m\u001b[38;5;124m'\u001b[39m]\n",
      "\u001b[0;31mTypeError\u001b[0m: 'NoneType' object is not subscriptable"
     ]
    }
   ],
   "source": [
    "num = print('주민등록번호를 입력하세요 >>>')\n",
    "['여자'] if num[7] == '2' else ['남자']"
   ]
  },
  {
   "cell_type": "code",
   "execution_count": 66,
   "id": "0e3eb465-33d6-4677-bfd5-49ebb9e6c945",
   "metadata": {},
   "outputs": [
    {
     "name": "stdout",
     "output_type": "stream",
     "text": [
      "주민등록번호를 입력하세요 >>>\n"
     ]
    },
    {
     "ename": "TypeError",
     "evalue": "'NoneType' object is not subscriptable",
     "output_type": "error",
     "traceback": [
      "\u001b[0;31m---------------------------------------------------------------------------\u001b[0m",
      "\u001b[0;31mTypeError\u001b[0m                                 Traceback (most recent call last)",
      "Input \u001b[0;32mIn [66]\u001b[0m, in \u001b[0;36m<cell line: 2>\u001b[0;34m()\u001b[0m\n\u001b[1;32m      1\u001b[0m num \u001b[38;5;241m=\u001b[39m \u001b[38;5;28mprint\u001b[39m(\u001b[38;5;124m'\u001b[39m\u001b[38;5;124m주민등록번호를 입력하세요 >>>\u001b[39m\u001b[38;5;124m'\u001b[39m)\n\u001b[0;32m----> 2\u001b[0m [\u001b[38;5;124m'\u001b[39m\u001b[38;5;124m여자\u001b[39m\u001b[38;5;124m'\u001b[39m] \u001b[38;5;28;01mif\u001b[39;00m \u001b[43mnum\u001b[49m\u001b[43m[\u001b[49m\u001b[38;5;241;43m7\u001b[39;49m\u001b[43m \u001b[49m\u001b[43m:\u001b[49m\u001b[43m \u001b[49m\u001b[38;5;241;43m8\u001b[39;49m\u001b[43m]\u001b[49m \u001b[38;5;241m==\u001b[39m \u001b[38;5;124m'\u001b[39m\u001b[38;5;124m2\u001b[39m\u001b[38;5;124m'\u001b[39m \u001b[38;5;28;01melse\u001b[39;00m [\u001b[38;5;124m'\u001b[39m\u001b[38;5;124m남자\u001b[39m\u001b[38;5;124m'\u001b[39m]\n",
      "\u001b[0;31mTypeError\u001b[0m: 'NoneType' object is not subscriptable"
     ]
    }
   ],
   "source": [
    "num = print('주민등록번호를 입력하세요 >>>')\n",
    "['여자'] if num[7 : 8] == '2' else ['남자']"
   ]
  },
  {
   "cell_type": "code",
   "execution_count": 69,
   "id": "70125315-3f89-46bc-9132-af9a8aaf805c",
   "metadata": {},
   "outputs": [
    {
     "data": {
      "text/plain": [
       "['여자']"
      ]
     },
     "execution_count": 69,
     "metadata": {},
     "output_type": "execute_result"
    }
   ],
   "source": [
    "num = '970724-2000000'\n",
    "['남자'] if num[8] == '2' else ['여자']"
   ]
  },
  {
   "cell_type": "code",
   "execution_count": 70,
   "id": "9f7e1395-c481-450c-aba3-80e0b9bd15e7",
   "metadata": {},
   "outputs": [
    {
     "name": "stdout",
     "output_type": "stream",
     "text": [
      "생년월일 :  970724- , 성별 :\n"
     ]
    },
    {
     "data": {
      "text/plain": [
       "['여자']"
      ]
     },
     "execution_count": 70,
     "metadata": {},
     "output_type": "execute_result"
    }
   ],
   "source": [
    "num = '970724-2000000'\n",
    "print('생년월일 : ', num[:7], ', 성별 :')\n",
    "['남자'] if num[8] == '2' else ['여자']"
   ]
  },
  {
   "cell_type": "code",
   "execution_count": 71,
   "id": "cb513afa-e717-4370-80cb-4d6be17233c4",
   "metadata": {},
   "outputs": [
    {
     "name": "stdin",
     "output_type": "stream",
     "text": [
      "주민등록번호 입력 >>> 9707242000000\n"
     ]
    },
    {
     "name": "stdout",
     "output_type": "stream",
     "text": [
      "생년월일 970724\n",
      "성별 여자\n"
     ]
    }
   ],
   "source": [
    "jumin = input('주민등록번호 입력 >>>')\n",
    "print('생년월일', jumin[:6])\n",
    "print('성별', '남자' if jumin[7] == '3' else '여자')"
   ]
  },
  {
   "cell_type": "markdown",
   "id": "32563969-ca8b-4c2e-889d-5c8e8598fd22",
   "metadata": {},
   "source": [
    "## 문자열 포매팅"
   ]
  },
  {
   "cell_type": "code",
   "execution_count": 72,
   "id": "ca62ebdc-3408-4744-a586-fdf1a18dfbd3",
   "metadata": {},
   "outputs": [
    {
     "data": {
      "text/plain": [
       "'i eat 3 apples.'"
      ]
     },
     "execution_count": 72,
     "metadata": {},
     "output_type": "execute_result"
    }
   ],
   "source": [
    "\"i eat %d apples.\" % 3"
   ]
  },
  {
   "cell_type": "code",
   "execution_count": 73,
   "id": "e22e3bfb-ccbe-444c-9a58-664f9bc76df9",
   "metadata": {},
   "outputs": [
    {
     "data": {
      "text/plain": [
       "'i eat 3 apples. end'"
      ]
     },
     "execution_count": 73,
     "metadata": {},
     "output_type": "execute_result"
    }
   ],
   "source": [
    "\"i eat %d apples. %s\" % (3, \"end\")"
   ]
  },
  {
   "cell_type": "code",
   "execution_count": 82,
   "id": "410a9f27-ca92-489c-a1a5-d91a177bd306",
   "metadata": {},
   "outputs": [
    {
     "data": {
      "text/plain": [
       "'i eat  3,214.12  apples, count'"
      ]
     },
     "execution_count": 82,
     "metadata": {},
     "output_type": "execute_result"
    }
   ],
   "source": [
    "'i eat {:^10,.2f} apples, {}'.format(3214.123456, 'count')"
   ]
  },
  {
   "cell_type": "code",
   "execution_count": 83,
   "id": "6afb3806-8df6-4a81-bb94-9160661bceb4",
   "metadata": {},
   "outputs": [
    {
     "name": "stdin",
     "output_type": "stream",
     "text": [
      "이름을 입력하세요 >>> 최유나\n",
      "나이를 입력하세요 >>> 24\n"
     ]
    },
    {
     "name": "stdout",
     "output_type": "stream",
     "text": [
      "이름은 최유나이고 나이는 24살 입니다\n"
     ]
    }
   ],
   "source": [
    "name = input('이름을 입력하세요 >>>')\n",
    "age = input('나이를 입력하세요 >>>')\n",
    "print('이름은 {}이고 나이는 {}살 입니다'.format(name, age))"
   ]
  },
  {
   "cell_type": "code",
   "execution_count": 85,
   "id": "d72e7ec0-c1c3-44d6-beec-3eb6f0ba8f71",
   "metadata": {
    "collapsed": true,
    "jupyter": {
     "outputs_hidden": true
    },
    "tags": []
   },
   "outputs": [
    {
     "name": "stdin",
     "output_type": "stream",
     "text": [
      "이름을 입력하세요 >>> 최유나\n",
      "나이를 입력하세요 >>> 24\n"
     ]
    },
    {
     "ename": "ValueError",
     "evalue": "Unknown format code 'f' for object of type 'str'",
     "output_type": "error",
     "traceback": [
      "\u001b[0;31m---------------------------------------------------------------------------\u001b[0m",
      "\u001b[0;31mValueError\u001b[0m                                Traceback (most recent call last)",
      "Input \u001b[0;32mIn [85]\u001b[0m, in \u001b[0;36m<cell line: 3>\u001b[0;34m()\u001b[0m\n\u001b[1;32m      1\u001b[0m name \u001b[38;5;241m=\u001b[39m \u001b[38;5;28minput\u001b[39m(\u001b[38;5;124m'\u001b[39m\u001b[38;5;124m이름을 입력하세요 >>>\u001b[39m\u001b[38;5;124m'\u001b[39m)\n\u001b[1;32m      2\u001b[0m age \u001b[38;5;241m=\u001b[39m \u001b[38;5;28minput\u001b[39m(\u001b[38;5;124m'\u001b[39m\u001b[38;5;124m나이를 입력하세요 >>>\u001b[39m\u001b[38;5;124m'\u001b[39m)\n\u001b[0;32m----> 3\u001b[0m \u001b[38;5;28mprint\u001b[39m(\u001b[38;5;124mf\u001b[39m\u001b[38;5;124m'\u001b[39m\u001b[38;5;124m이름은 \u001b[39m\u001b[38;5;132;01m{\u001b[39;00mname\u001b[38;5;132;01m}\u001b[39;00m\u001b[38;5;124m이고 나이는 \u001b[39m\u001b[38;5;132;01m{\u001b[39;00mage\u001b[38;5;132;01m:\u001b[39;00m\u001b[38;5;124m.1f\u001b[39m\u001b[38;5;132;01m}\u001b[39;00m\u001b[38;5;124m살 입니다\u001b[39m\u001b[38;5;124m'\u001b[39m)\n",
      "\u001b[0;31mValueError\u001b[0m: Unknown format code 'f' for object of type 'str'"
     ]
    }
   ],
   "source": [
    "name = input('이름을 입력하세요 >>>')\n",
    "age = input('나이를 입력하세요 >>>')\n",
    "print(f'이름은 {name}이고 나이는 {age:.1f}살 입니다')"
   ]
  },
  {
   "cell_type": "code",
   "execution_count": 86,
   "id": "c2802f9b-f662-4521-b7bf-1c23ff9d4633",
   "metadata": {},
   "outputs": [
    {
     "name": "stdin",
     "output_type": "stream",
     "text": [
      "이름을 입력하세요 >>> 최유나\n",
      "나이를 입력하세요 >>> 24\n"
     ]
    },
    {
     "name": "stdout",
     "output_type": "stream",
     "text": [
      "이름은 최유나이고 나이는 24.0살 입니다\n"
     ]
    }
   ],
   "source": [
    "name = input('이름을 입력하세요 >>>')\n",
    "age = input('나이를 입력하세요 >>>')\n",
    "print(f'이름은 {name}이고 나이는 {int(age):.1f}살 입니다')"
   ]
  },
  {
   "cell_type": "code",
   "execution_count": 89,
   "id": "e978f92b-7a8b-4e2b-8531-ddb98370beeb",
   "metadata": {},
   "outputs": [
    {
     "data": {
      "text/plain": [
       "0"
      ]
     },
     "execution_count": 89,
     "metadata": {},
     "output_type": "execute_result"
    }
   ],
   "source": [
    "a = \"hobby\"\n",
    "a.count('i')"
   ]
  },
  {
   "cell_type": "code",
   "execution_count": 91,
   "id": "269aa412-68dd-4143-9178-a893936bede6",
   "metadata": {},
   "outputs": [
    {
     "data": {
      "text/plain": [
       "14"
      ]
     },
     "execution_count": 91,
     "metadata": {},
     "output_type": "execute_result"
    }
   ],
   "source": [
    "a = \"Python is the best choice\"\n",
    "a.find(\"b\") # 인덱스 리턴"
   ]
  },
  {
   "cell_type": "code",
   "execution_count": 93,
   "id": "e5ef9068-0cd0-4c48-885e-d6aa27bdeee7",
   "metadata": {},
   "outputs": [
    {
     "data": {
      "text/plain": [
       "-1"
      ]
     },
     "execution_count": 93,
     "metadata": {},
     "output_type": "execute_result"
    }
   ],
   "source": [
    "a.find('k') #글자가 없을 경우 -1을 리턴"
   ]
  },
  {
   "cell_type": "code",
   "execution_count": 94,
   "id": "1659424e-0454-4373-939e-bed84ea5cf95",
   "metadata": {},
   "outputs": [
    {
     "data": {
      "text/plain": [
       "8"
      ]
     },
     "execution_count": 94,
     "metadata": {},
     "output_type": "execute_result"
    }
   ],
   "source": [
    "a = \"Life is too short\"\n",
    "a.index('t')"
   ]
  },
  {
   "cell_type": "code",
   "execution_count": 96,
   "id": "c8c43b6f-c29d-4d8b-b2de-1cd4c54bb08d",
   "metadata": {},
   "outputs": [
    {
     "ename": "ValueError",
     "evalue": "substring not found",
     "output_type": "error",
     "traceback": [
      "\u001b[0;31m---------------------------------------------------------------------------\u001b[0m",
      "\u001b[0;31mValueError\u001b[0m                                Traceback (most recent call last)",
      "Input \u001b[0;32mIn [96]\u001b[0m, in \u001b[0;36m<cell line: 1>\u001b[0;34m()\u001b[0m\n\u001b[0;32m----> 1\u001b[0m \u001b[43ma\u001b[49m\u001b[38;5;241;43m.\u001b[39;49m\u001b[43mindex\u001b[49m\u001b[43m(\u001b[49m\u001b[38;5;124;43m'\u001b[39;49m\u001b[38;5;124;43mk\u001b[39;49m\u001b[38;5;124;43m'\u001b[39;49m\u001b[43m)\u001b[49m\n",
      "\u001b[0;31mValueError\u001b[0m: substring not found"
     ]
    }
   ],
   "source": [
    "a.index('k') #없으면 오류남"
   ]
  },
  {
   "cell_type": "code",
   "execution_count": 97,
   "id": "96948e96-5a9e-4c24-a86f-85ec13a26055",
   "metadata": {},
   "outputs": [
    {
     "data": {
      "text/plain": [
       "'a,b,c,d'"
      ]
     },
     "execution_count": 97,
     "metadata": {},
     "output_type": "execute_result"
    }
   ],
   "source": [
    "','.join('abcd')"
   ]
  },
  {
   "cell_type": "code",
   "execution_count": 98,
   "id": "8ae74178-7fba-4518-933f-5e0fc289a37c",
   "metadata": {},
   "outputs": [
    {
     "data": {
      "text/plain": [
       "'abc,def,78'"
      ]
     },
     "execution_count": 98,
     "metadata": {},
     "output_type": "execute_result"
    }
   ],
   "source": [
    "','.join(['abc', 'def', '78'])"
   ]
  },
  {
   "cell_type": "code",
   "execution_count": 103,
   "id": "21018133-a1eb-4c7d-b19d-b6fddf8735ab",
   "metadata": {},
   "outputs": [
    {
     "data": {
      "text/plain": [
       "['Life', 'is', 'too', 'short']"
      ]
     },
     "execution_count": 103,
     "metadata": {},
     "output_type": "execute_result"
    }
   ],
   "source": [
    "a = \"Life,is,too,short\"\n",
    "a.split(sep=',')"
   ]
  },
  {
   "cell_type": "code",
   "execution_count": 107,
   "id": "32bd6212-f826-4068-9e02-3eeb9849ddc5",
   "metadata": {},
   "outputs": [
    {
     "name": "stdout",
     "output_type": "stream",
     "text": [
      "taxi\n",
      "----\n"
     ]
    }
   ],
   "source": [
    "money = True\n",
    "if money: \n",
    "    print('taxi')\n",
    "    print('----')\n",
    "else:\n",
    "    print('walk')"
   ]
  },
  {
   "cell_type": "code",
   "execution_count": 110,
   "id": "316b6195-fe3d-471d-979d-061270d54835",
   "metadata": {},
   "outputs": [],
   "source": [
    "if 'money' in ['card', 'money'] :\n",
    "    pass #구조상으로 지금 당장은 건너 뛰겠다\n",
    "else:\n",
    "    print('카드를 꺼내라')"
   ]
  },
  {
   "cell_type": "code",
   "execution_count": 111,
   "id": "a291dc6f-3034-4616-8259-9395f88c3470",
   "metadata": {},
   "outputs": [
    {
     "name": "stdout",
     "output_type": "stream",
     "text": [
      "walk\n"
     ]
    }
   ],
   "source": [
    "money = False\n",
    "if money:\n",
    "    print('taxi')\n",
    "    print('------')\n",
    "else : \n",
    "    print('walk')"
   ]
  },
  {
   "cell_type": "code",
   "execution_count": 112,
   "id": "677c0511-86af-40da-b607-6aaac2b56d05",
   "metadata": {},
   "outputs": [
    {
     "name": "stdout",
     "output_type": "stream",
     "text": [
      "돈마니마니\n"
     ]
    }
   ],
   "source": [
    "if 'money' in ['kaka', 'money']:\n",
    "    print('돈마니마니')\n",
    "else :\n",
    "    print('no money')"
   ]
  },
  {
   "cell_type": "markdown",
   "id": "5aa8f314-4f3b-4718-b19c-dce4a666714f",
   "metadata": {},
   "source": [
    "## 구구단 출력하기\n",
    "# -2단-\n",
    "# 2 * 1 = 2 \n",
    "# ...\n",
    "# -3단-"
   ]
  },
  {
   "cell_type": "code",
   "execution_count": 122,
   "id": "89745ec0-a751-4476-ade2-25b565f7862e",
   "metadata": {
    "collapsed": true,
    "jupyter": {
     "outputs_hidden": true
    },
    "tags": []
   },
   "outputs": [
    {
     "name": "stdout",
     "output_type": "stream",
     "text": [
      "2 * 1 = 2 \n",
      " 2 * 2 = 4 \n",
      " 2 * 3 = 6 \n",
      " 2 * 4 = 8 \n",
      " 2 * 5 = 10 \n",
      " 2 * 6 = 12 \n",
      " 2 * 7 = 14 \n",
      " 2 * 8 = 16 \n",
      " 2 * 9 = 18 \n",
      " \n",
      "3 * 1 = 3 \n",
      " 3 * 2 = 6 \n",
      " 3 * 3 = 9 \n",
      " 3 * 4 = 12 \n",
      " 3 * 5 = 15 \n",
      " 3 * 6 = 18 \n",
      " 3 * 7 = 21 \n",
      " 3 * 8 = 24 \n",
      " 3 * 9 = 27 \n",
      " \n",
      "4 * 1 = 4 \n",
      " 4 * 2 = 8 \n",
      " 4 * 3 = 12 \n",
      " 4 * 4 = 16 \n",
      " 4 * 5 = 20 \n",
      " 4 * 6 = 24 \n",
      " 4 * 7 = 28 \n",
      " 4 * 8 = 32 \n",
      " 4 * 9 = 36 \n",
      " \n",
      "5 * 1 = 5 \n",
      " 5 * 2 = 10 \n",
      " 5 * 3 = 15 \n",
      " 5 * 4 = 20 \n",
      " 5 * 5 = 25 \n",
      " 5 * 6 = 30 \n",
      " 5 * 7 = 35 \n",
      " 5 * 8 = 40 \n",
      " 5 * 9 = 45 \n",
      " \n",
      "6 * 1 = 6 \n",
      " 6 * 2 = 12 \n",
      " 6 * 3 = 18 \n",
      " 6 * 4 = 24 \n",
      " 6 * 5 = 30 \n",
      " 6 * 6 = 36 \n",
      " 6 * 7 = 42 \n",
      " 6 * 8 = 48 \n",
      " 6 * 9 = 54 \n",
      " \n",
      "7 * 1 = 7 \n",
      " 7 * 2 = 14 \n",
      " 7 * 3 = 21 \n",
      " 7 * 4 = 28 \n",
      " 7 * 5 = 35 \n",
      " 7 * 6 = 42 \n",
      " 7 * 7 = 49 \n",
      " 7 * 8 = 56 \n",
      " 7 * 9 = 63 \n",
      " \n",
      "8 * 1 = 8 \n",
      " 8 * 2 = 16 \n",
      " 8 * 3 = 24 \n",
      " 8 * 4 = 32 \n",
      " 8 * 5 = 40 \n",
      " 8 * 6 = 48 \n",
      " 8 * 7 = 56 \n",
      " 8 * 8 = 64 \n",
      " 8 * 9 = 72 \n",
      " \n",
      "9 * 1 = 9 \n",
      " 9 * 2 = 18 \n",
      " 9 * 3 = 27 \n",
      " 9 * 4 = 36 \n",
      " 9 * 5 = 45 \n",
      " 9 * 6 = 54 \n",
      " 9 * 7 = 63 \n",
      " 9 * 8 = 72 \n",
      " 9 * 9 = 81 \n",
      " \n"
     ]
    }
   ],
   "source": [
    "for i in range(2, 10):\n",
    "    for j in range(1, 10):\n",
    "        print(i, '*', j, '=', i * j  , '\\n', end=\" \")\n",
    "    print('')"
   ]
  },
  {
   "cell_type": "code",
   "execution_count": 124,
   "id": "545b9461-5d10-4abd-9cd2-15004aa16b40",
   "metadata": {
    "collapsed": true,
    "jupyter": {
     "outputs_hidden": true
    },
    "tags": []
   },
   "outputs": [
    {
     "name": "stdout",
     "output_type": "stream",
     "text": [
      "--2단 --\n",
      "2 * 1 =  2\n",
      "2 * 2 =  4\n",
      "2 * 3 =  6\n",
      "2 * 4 =  8\n",
      "2 * 5 = 10\n",
      "2 * 6 = 12\n",
      "2 * 7 = 14\n",
      "2 * 8 = 16\n",
      "2 * 9 = 18\n",
      "\n",
      "--3단 --\n",
      "3 * 1 =  3\n",
      "3 * 2 =  6\n",
      "3 * 3 =  9\n",
      "3 * 4 = 12\n",
      "3 * 5 = 15\n",
      "3 * 6 = 18\n",
      "3 * 7 = 21\n",
      "3 * 8 = 24\n",
      "3 * 9 = 27\n",
      "\n",
      "--4단 --\n",
      "4 * 1 =  4\n",
      "4 * 2 =  8\n",
      "4 * 3 = 12\n",
      "4 * 4 = 16\n",
      "4 * 5 = 20\n",
      "4 * 6 = 24\n",
      "4 * 7 = 28\n",
      "4 * 8 = 32\n",
      "4 * 9 = 36\n",
      "\n",
      "--5단 --\n",
      "5 * 1 =  5\n",
      "5 * 2 = 10\n",
      "5 * 3 = 15\n",
      "5 * 4 = 20\n",
      "5 * 5 = 25\n",
      "5 * 6 = 30\n",
      "5 * 7 = 35\n",
      "5 * 8 = 40\n",
      "5 * 9 = 45\n",
      "\n",
      "--6단 --\n",
      "6 * 1 =  6\n",
      "6 * 2 = 12\n",
      "6 * 3 = 18\n",
      "6 * 4 = 24\n",
      "6 * 5 = 30\n",
      "6 * 6 = 36\n",
      "6 * 7 = 42\n",
      "6 * 8 = 48\n",
      "6 * 9 = 54\n",
      "\n",
      "--7단 --\n",
      "7 * 1 =  7\n",
      "7 * 2 = 14\n",
      "7 * 3 = 21\n",
      "7 * 4 = 28\n",
      "7 * 5 = 35\n",
      "7 * 6 = 42\n",
      "7 * 7 = 49\n",
      "7 * 8 = 56\n",
      "7 * 9 = 63\n",
      "\n",
      "--8단 --\n",
      "8 * 1 =  8\n",
      "8 * 2 = 16\n",
      "8 * 3 = 24\n",
      "8 * 4 = 32\n",
      "8 * 5 = 40\n",
      "8 * 6 = 48\n",
      "8 * 7 = 56\n",
      "8 * 8 = 64\n",
      "8 * 9 = 72\n",
      "\n",
      "--9단 --\n",
      "9 * 1 =  9\n",
      "9 * 2 = 18\n",
      "9 * 3 = 27\n",
      "9 * 4 = 36\n",
      "9 * 5 = 45\n",
      "9 * 6 = 54\n",
      "9 * 7 = 63\n",
      "9 * 8 = 72\n",
      "9 * 9 = 81\n",
      "\n"
     ]
    }
   ],
   "source": [
    "for i in range(2, 10):\n",
    "    print(f'--{i}단 --')\n",
    "    for j in range(1, 10):\n",
    "        print(f'{i} * {j} = {i * j:2}')\n",
    "    print()"
   ]
  },
  {
   "cell_type": "code",
   "execution_count": 125,
   "id": "5ba96686-7c6f-4b77-942d-b024d64e785a",
   "metadata": {},
   "outputs": [],
   "source": [
    "# 2단 3단 4단 5단 6단 ..."
   ]
  },
  {
   "cell_type": "code",
   "execution_count": 131,
   "id": "f741a5d1-11cc-448e-9328-e8268397e2bc",
   "metadata": {},
   "outputs": [
    {
     "name": "stdout",
     "output_type": "stream",
     "text": [
      "2 * 1 =  2  3 * 1 =  3  4 * 1 =  4  5 * 1 =  5  6 * 1 =  6  7 * 1 =  7  8 * 1 =  8  9 * 1 =  9  \n",
      "2 * 2 =  4  3 * 2 =  6  4 * 2 =  8  5 * 2 = 10  6 * 2 = 12  7 * 2 = 14  8 * 2 = 16  9 * 2 = 18  \n",
      "2 * 3 =  6  3 * 3 =  9  4 * 3 = 12  5 * 3 = 15  6 * 3 = 18  7 * 3 = 21  8 * 3 = 24  9 * 3 = 27  \n",
      "2 * 4 =  8  3 * 4 = 12  4 * 4 = 16  5 * 4 = 20  6 * 4 = 24  7 * 4 = 28  8 * 4 = 32  9 * 4 = 36  \n",
      "2 * 5 = 10  3 * 5 = 15  4 * 5 = 20  5 * 5 = 25  6 * 5 = 30  7 * 5 = 35  8 * 5 = 40  9 * 5 = 45  \n",
      "2 * 6 = 12  3 * 6 = 18  4 * 6 = 24  5 * 6 = 30  6 * 6 = 36  7 * 6 = 42  8 * 6 = 48  9 * 6 = 54  \n",
      "2 * 7 = 14  3 * 7 = 21  4 * 7 = 28  5 * 7 = 35  6 * 7 = 42  7 * 7 = 49  8 * 7 = 56  9 * 7 = 63  \n",
      "2 * 8 = 16  3 * 8 = 24  4 * 8 = 32  5 * 8 = 40  6 * 8 = 48  7 * 8 = 56  8 * 8 = 64  9 * 8 = 72  \n",
      "2 * 9 = 18  3 * 9 = 27  4 * 9 = 36  5 * 9 = 45  6 * 9 = 54  7 * 9 = 63  8 * 9 = 72  9 * 9 = 81  \n"
     ]
    }
   ],
   "source": [
    "for i in range(1, 10):\n",
    "    for j in range(2, 10):\n",
    "        print(f'{j} * {i} = {j * i:2}', end='  ')\n",
    "    print()"
   ]
  },
  {
   "cell_type": "code",
   "execution_count": null,
   "id": "50093f7c-83f2-433d-ad84-3a7d730c2422",
   "metadata": {},
   "outputs": [],
   "source": []
  }
 ],
 "metadata": {
  "kernelspec": {
   "display_name": "Python 3 (ipykernel)",
   "language": "python",
   "name": "python3"
  },
  "language_info": {
   "codemirror_mode": {
    "name": "ipython",
    "version": 3
   },
   "file_extension": ".py",
   "mimetype": "text/x-python",
   "name": "python",
   "nbconvert_exporter": "python",
   "pygments_lexer": "ipython3",
   "version": "3.9.12"
  }
 },
 "nbformat": 4,
 "nbformat_minor": 5
}

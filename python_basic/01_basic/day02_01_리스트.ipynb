{
 "cells": [
  {
   "cell_type": "code",
   "execution_count": 1,
   "id": "3c3d1018-781d-4538-8e88-dfb7acb97922",
   "metadata": {},
   "outputs": [],
   "source": [
    "odd = [1, 3, 5, 7, 9]"
   ]
  },
  {
   "cell_type": "code",
   "execution_count": 2,
   "id": "76523e93-5637-4790-9045-c65b2eb16900",
   "metadata": {},
   "outputs": [
    {
     "data": {
      "text/plain": [
       "[1, 3, 5, 7, 9]"
      ]
     },
     "execution_count": 2,
     "metadata": {},
     "output_type": "execute_result"
    }
   ],
   "source": [
    "odd"
   ]
  },
  {
   "cell_type": "code",
   "execution_count": 3,
   "id": "d6ff713f-51b3-4c3d-b07e-3663a1671be7",
   "metadata": {},
   "outputs": [
    {
     "data": {
      "text/plain": [
       "1"
      ]
     },
     "execution_count": 3,
     "metadata": {},
     "output_type": "execute_result"
    }
   ],
   "source": [
    "odd[0]"
   ]
  },
  {
   "cell_type": "code",
   "execution_count": 4,
   "id": "d26668c9-b3a8-4ebb-9eb7-acaec2abe967",
   "metadata": {
    "collapsed": true,
    "jupyter": {
     "outputs_hidden": true
    },
    "tags": []
   },
   "outputs": [
    {
     "name": "stdout",
     "output_type": "stream",
     "text": [
      "1\n",
      "3\n",
      "5\n",
      "7\n",
      "9\n"
     ]
    }
   ],
   "source": [
    "for i in odd:\n",
    "    print(i)"
   ]
  },
  {
   "cell_type": "code",
   "execution_count": 6,
   "id": "8363b78d-2aca-40e6-9464-f900a44631e3",
   "metadata": {},
   "outputs": [],
   "source": [
    "a = [1, 2, 3, ['a,', 'b', 'c']]"
   ]
  },
  {
   "cell_type": "code",
   "execution_count": 7,
   "id": "86bfe525-c09b-4c0a-951c-1a6a2c043998",
   "metadata": {},
   "outputs": [
    {
     "data": {
      "text/plain": [
       "'b'"
      ]
     },
     "execution_count": 7,
     "metadata": {},
     "output_type": "execute_result"
    }
   ],
   "source": [
    "a[3][1]"
   ]
  },
  {
   "cell_type": "code",
   "execution_count": 8,
   "id": "a4a5a813-91d9-4916-a975-e038373ecc7b",
   "metadata": {},
   "outputs": [
    {
     "data": {
      "text/plain": [
       "[2, 3]"
      ]
     },
     "execution_count": 8,
     "metadata": {},
     "output_type": "execute_result"
    }
   ],
   "source": [
    "a[1: 3]"
   ]
  },
  {
   "cell_type": "code",
   "execution_count": 9,
   "id": "a3cc43b3-d16d-4ea1-9815-230fc30fecdb",
   "metadata": {},
   "outputs": [
    {
     "data": {
      "text/plain": [
       "4"
      ]
     },
     "execution_count": 9,
     "metadata": {},
     "output_type": "execute_result"
    }
   ],
   "source": [
    "len(a)"
   ]
  },
  {
   "cell_type": "code",
   "execution_count": 10,
   "id": "15e53646-cc5f-43c6-b621-150e12bd8985",
   "metadata": {},
   "outputs": [],
   "source": [
    "a[3] = 'abc'"
   ]
  },
  {
   "cell_type": "code",
   "execution_count": 11,
   "id": "c406e46a-b185-4680-9ad0-4a832e3675c7",
   "metadata": {},
   "outputs": [
    {
     "data": {
      "text/plain": [
       "[1, 2, 3, 'abc']"
      ]
     },
     "execution_count": 11,
     "metadata": {},
     "output_type": "execute_result"
    }
   ],
   "source": [
    "a"
   ]
  },
  {
   "cell_type": "code",
   "execution_count": 12,
   "id": "0439cae7-f077-4a94-a9e0-8c74b58cfb3f",
   "metadata": {},
   "outputs": [],
   "source": [
    "del a[1]"
   ]
  },
  {
   "cell_type": "code",
   "execution_count": 13,
   "id": "97c9d9a6-4312-4498-a634-519be063ebf5",
   "metadata": {},
   "outputs": [
    {
     "data": {
      "text/plain": [
       "[1, 3, 'abc']"
      ]
     },
     "execution_count": 13,
     "metadata": {},
     "output_type": "execute_result"
    }
   ],
   "source": [
    "a"
   ]
  },
  {
   "cell_type": "code",
   "execution_count": 15,
   "id": "b55b329a-8449-4178-9e32-7455dbe5ae62",
   "metadata": {},
   "outputs": [],
   "source": [
    "del a"
   ]
  },
  {
   "cell_type": "code",
   "execution_count": 16,
   "id": "4e101873-c4fe-4634-b75e-326eda92a16e",
   "metadata": {
    "collapsed": true,
    "jupyter": {
     "outputs_hidden": true
    },
    "tags": []
   },
   "outputs": [
    {
     "ename": "NameError",
     "evalue": "name 'a' is not defined",
     "output_type": "error",
     "traceback": [
      "\u001b[0;31m---------------------------------------------------------------------------\u001b[0m",
      "\u001b[0;31mNameError\u001b[0m                                 Traceback (most recent call last)",
      "Input \u001b[0;32mIn [16]\u001b[0m, in \u001b[0;36m<cell line: 1>\u001b[0;34m()\u001b[0m\n\u001b[0;32m----> 1\u001b[0m \u001b[43ma\u001b[49m\n",
      "\u001b[0;31mNameError\u001b[0m: name 'a' is not defined"
     ]
    }
   ],
   "source": [
    "a"
   ]
  },
  {
   "cell_type": "code",
   "execution_count": 17,
   "id": "f3a58fb6-f228-44f9-a1d3-190e3bd08e26",
   "metadata": {},
   "outputs": [],
   "source": [
    "a = [1, 2, 3]"
   ]
  },
  {
   "cell_type": "code",
   "execution_count": 18,
   "id": "f58a1fa7-27f9-4431-9704-0f58446e620a",
   "metadata": {},
   "outputs": [],
   "source": [
    "a.append(4)"
   ]
  },
  {
   "cell_type": "code",
   "execution_count": 19,
   "id": "503885c5-2249-4977-be94-713f5139d57c",
   "metadata": {},
   "outputs": [
    {
     "data": {
      "text/plain": [
       "[1, 2, 3, 4]"
      ]
     },
     "execution_count": 19,
     "metadata": {},
     "output_type": "execute_result"
    }
   ],
   "source": [
    "a"
   ]
  },
  {
   "cell_type": "code",
   "execution_count": 20,
   "id": "f8c71a5a-91e1-44a8-b3f4-c5d973b12712",
   "metadata": {},
   "outputs": [],
   "source": [
    "a.append(5)"
   ]
  },
  {
   "cell_type": "code",
   "execution_count": 21,
   "id": "4d3c057d-3eab-4a48-9084-82a2a22dff35",
   "metadata": {},
   "outputs": [
    {
     "data": {
      "text/plain": [
       "[1, 2, 3, 4, 5]"
      ]
     },
     "execution_count": 21,
     "metadata": {},
     "output_type": "execute_result"
    }
   ],
   "source": [
    "a"
   ]
  },
  {
   "cell_type": "code",
   "execution_count": 22,
   "id": "16ae883c-5ff4-415e-9f23-41d73514dbb9",
   "metadata": {},
   "outputs": [],
   "source": [
    "a = ['a', 'c', 'b']"
   ]
  },
  {
   "cell_type": "code",
   "execution_count": 24,
   "id": "db5dfb7a-b305-4b29-ba34-4ed7645f1058",
   "metadata": {},
   "outputs": [],
   "source": [
    "a.sort()"
   ]
  },
  {
   "cell_type": "code",
   "execution_count": 25,
   "id": "af3022a9-01e5-4988-8d11-de5ecebba4c1",
   "metadata": {},
   "outputs": [
    {
     "data": {
      "text/plain": [
       "['a', 'b', 'c']"
      ]
     },
     "execution_count": 25,
     "metadata": {},
     "output_type": "execute_result"
    }
   ],
   "source": [
    "a"
   ]
  },
  {
   "cell_type": "code",
   "execution_count": 33,
   "id": "ccbbe188-5af3-4dc3-b6e2-64915e2b55b1",
   "metadata": {},
   "outputs": [],
   "source": [
    "a.sort(reverse=True)\n",
    "a.reverse()"
   ]
  },
  {
   "cell_type": "code",
   "execution_count": 34,
   "id": "3220beae-b13b-4679-8c1a-4bdd857e1bfe",
   "metadata": {},
   "outputs": [
    {
     "data": {
      "text/plain": [
       "['a', 'b', 'c']"
      ]
     },
     "execution_count": 34,
     "metadata": {},
     "output_type": "execute_result"
    }
   ],
   "source": [
    "a"
   ]
  },
  {
   "cell_type": "code",
   "execution_count": 39,
   "id": "93ab99ec-c295-409f-82bc-e88c6324921b",
   "metadata": {},
   "outputs": [],
   "source": [
    "a = [2, 4, 3, 1]"
   ]
  },
  {
   "cell_type": "code",
   "execution_count": 40,
   "id": "762e6e0b-ce70-4138-ad2b-fae54b235eb0",
   "metadata": {},
   "outputs": [
    {
     "data": {
      "text/plain": [
       "3"
      ]
     },
     "execution_count": 40,
     "metadata": {},
     "output_type": "execute_result"
    }
   ],
   "source": [
    "a.index(1)"
   ]
  },
  {
   "cell_type": "code",
   "execution_count": 41,
   "id": "5f2d513b-9a59-4548-96ca-4d00b62b0a92",
   "metadata": {},
   "outputs": [],
   "source": [
    "a.insert(0, 0)"
   ]
  },
  {
   "cell_type": "code",
   "execution_count": 42,
   "id": "bac270a9-a2e2-4912-9de9-7ee24185cca2",
   "metadata": {},
   "outputs": [
    {
     "data": {
      "text/plain": [
       "[0, 2, 4, 3, 1]"
      ]
     },
     "execution_count": 42,
     "metadata": {},
     "output_type": "execute_result"
    }
   ],
   "source": [
    "a"
   ]
  },
  {
   "cell_type": "code",
   "execution_count": 43,
   "id": "5be2e245-4e29-40c4-b22c-b9e561438a09",
   "metadata": {},
   "outputs": [
    {
     "data": {
      "text/plain": [
       "[0, 2, 4, 3]"
      ]
     },
     "execution_count": 43,
     "metadata": {},
     "output_type": "execute_result"
    }
   ],
   "source": [
    "#del a[2]\n",
    "a.remove(1)\n",
    "a"
   ]
  },
  {
   "cell_type": "code",
   "execution_count": 44,
   "id": "d07a42de-30e0-47e6-bc6c-2ff67a120ebe",
   "metadata": {},
   "outputs": [
    {
     "data": {
      "text/plain": [
       "3"
      ]
     },
     "execution_count": 44,
     "metadata": {},
     "output_type": "execute_result"
    }
   ],
   "source": [
    "a.pop() #맨뒤를 빼고 리턴"
   ]
  },
  {
   "cell_type": "code",
   "execution_count": 45,
   "id": "c128faa5-27a6-42a8-9ded-ffc6835e5e69",
   "metadata": {},
   "outputs": [
    {
     "data": {
      "text/plain": [
       "[0, 2, 4]"
      ]
     },
     "execution_count": 45,
     "metadata": {},
     "output_type": "execute_result"
    }
   ],
   "source": [
    "a"
   ]
  },
  {
   "cell_type": "code",
   "execution_count": 46,
   "id": "86dcf0f8-5a24-4674-b547-2e0bb5bb616d",
   "metadata": {},
   "outputs": [],
   "source": [
    "a = [1, 2, 3, 1]"
   ]
  },
  {
   "cell_type": "code",
   "execution_count": 47,
   "id": "e9c454e0-4ac0-47ee-8934-a683ce85383e",
   "metadata": {},
   "outputs": [
    {
     "data": {
      "text/plain": [
       "[1, 2, 3, 1]"
      ]
     },
     "execution_count": 47,
     "metadata": {},
     "output_type": "execute_result"
    }
   ],
   "source": [
    "a"
   ]
  },
  {
   "cell_type": "code",
   "execution_count": 48,
   "id": "8c65a805-c8e9-4d79-afa8-732b61f69be2",
   "metadata": {},
   "outputs": [
    {
     "data": {
      "text/plain": [
       "2"
      ]
     },
     "execution_count": 48,
     "metadata": {},
     "output_type": "execute_result"
    }
   ],
   "source": [
    "a.count(1)"
   ]
  },
  {
   "cell_type": "code",
   "execution_count": 49,
   "id": "e77a8903-026f-4bcb-954d-c70629035bce",
   "metadata": {},
   "outputs": [
    {
     "data": {
      "text/plain": [
       "0"
      ]
     },
     "execution_count": 49,
     "metadata": {},
     "output_type": "execute_result"
    }
   ],
   "source": [
    "a.count(0)"
   ]
  },
  {
   "cell_type": "code",
   "execution_count": 53,
   "id": "c4a36957-eb7c-4249-8b63-b287975db144",
   "metadata": {},
   "outputs": [],
   "source": [
    "a = [1, 2, 3]\n",
    "b = [4, 5]\n",
    "a.extend(b)"
   ]
  },
  {
   "cell_type": "code",
   "execution_count": 54,
   "id": "80349431-15ac-4cff-ac81-2d9048b720e3",
   "metadata": {},
   "outputs": [
    {
     "data": {
      "text/plain": [
       "[1, 2, 3, 4, 5]"
      ]
     },
     "execution_count": 54,
     "metadata": {},
     "output_type": "execute_result"
    }
   ],
   "source": [
    "a"
   ]
  },
  {
   "cell_type": "code",
   "execution_count": 55,
   "id": "44bae50a-e23d-4a21-b99f-9d2ede36c29a",
   "metadata": {},
   "outputs": [],
   "source": [
    "a.append(b)"
   ]
  },
  {
   "cell_type": "code",
   "execution_count": 56,
   "id": "98f7a309-01a7-4d8f-b875-8696472453cf",
   "metadata": {},
   "outputs": [
    {
     "data": {
      "text/plain": [
       "[1, 2, 3, 4, 5, [4, 5]]"
      ]
     },
     "execution_count": 56,
     "metadata": {},
     "output_type": "execute_result"
    }
   ],
   "source": [
    "a"
   ]
  },
  {
   "cell_type": "raw",
   "id": "40942a74-e972-4e9b-9148-9496b6f9045d",
   "metadata": {},
   "source": [
    "타자게임\n",
    "데이터 저장 : word = []\n",
    "word 리스트에서 문제를 추출하여 제출하면 맞추는 게임\n",
    "\n",
    "- 한번 출제된 문제는 맞출 때까지 반복 \n",
    "- 전체 5문제 출제\n",
    "- 다 맞추면 종료"
   ]
  },
  {
   "cell_type": "code",
   "execution_count": 58,
   "id": "6be71283-513b-4c88-b42e-9fa2e39449c3",
   "metadata": {},
   "outputs": [],
   "source": [
    "import random"
   ]
  },
  {
   "cell_type": "code",
   "execution_count": 107,
   "id": "5d69646c-60a1-45e8-9fa5-8917ece28ea6",
   "metadata": {},
   "outputs": [
    {
     "data": {
      "text/plain": [
       "'cat'"
      ]
     },
     "execution_count": 107,
     "metadata": {},
     "output_type": "execute_result"
    }
   ],
   "source": [
    "word = ['cat', 'dog', '강아지', '고양이', '해피']\n",
    "problem = random.choice(word)\n",
    "problem"
   ]
  },
  {
   "cell_type": "code",
   "execution_count": 128,
   "id": "34d1873a-aa3c-4b04-8098-8cdeb2a3d0d9",
   "metadata": {},
   "outputs": [
    {
     "data": {
      "text/plain": [
       "'cat'"
      ]
     },
     "execution_count": 128,
     "metadata": {},
     "output_type": "execute_result"
    }
   ],
   "source": [
    "word = ['cat', 'dog', 'bee', 'mouse', 'bird']\n",
    "random.choice(word)"
   ]
  },
  {
   "cell_type": "code",
   "execution_count": 117,
   "id": "08625695-d72a-468d-9d1b-9c84bf8b586d",
   "metadata": {
    "collapsed": true,
    "jupyter": {
     "outputs_hidden": true
    },
    "tags": []
   },
   "outputs": [
    {
     "name": "stdout",
     "output_type": "stream",
     "text": [
      "1번\n",
      "bee\n"
     ]
    },
    {
     "name": "stdin",
     "output_type": "stream",
     "text": [
      ">>> bee\n"
     ]
    },
    {
     "name": "stdout",
     "output_type": "stream",
     "text": [
      "통과\n",
      "2번\n",
      "dog\n"
     ]
    },
    {
     "name": "stdin",
     "output_type": "stream",
     "text": [
      ">>> dog\n"
     ]
    },
    {
     "name": "stdout",
     "output_type": "stream",
     "text": [
      "통과\n",
      "3번\n",
      "bee\n"
     ]
    },
    {
     "name": "stdin",
     "output_type": "stream",
     "text": [
      ">>> bee\n"
     ]
    },
    {
     "name": "stdout",
     "output_type": "stream",
     "text": [
      "통과\n",
      "4번\n",
      "cat\n"
     ]
    },
    {
     "name": "stdin",
     "output_type": "stream",
     "text": [
      ">>> cat\n"
     ]
    },
    {
     "name": "stdout",
     "output_type": "stream",
     "text": [
      "통과\n",
      "5번\n",
      "bird\n"
     ]
    },
    {
     "name": "stdin",
     "output_type": "stream",
     "text": [
      ">>> bird\n"
     ]
    },
    {
     "name": "stdout",
     "output_type": "stream",
     "text": [
      "통과\n",
      "모두 맞추셨습니다\n"
     ]
    }
   ],
   "source": [
    "n = 1\n",
    "quiz = random.choice(word)\n",
    "while n <= 5:\n",
    "    print(f'{n}번')\n",
    "    print(quiz)\n",
    "    result = input('>>>')\n",
    "    if quiz == result:\n",
    "        print('통과')\n",
    "        n += 1\n",
    "        quiz = random.choice(word)\n",
    "    else :\n",
    "        print('실패, 다시 도전')\n",
    "print('모두 맞추셨습니다')"
   ]
  },
  {
   "cell_type": "code",
   "execution_count": 130,
   "id": "a6a7e20d-0b7f-449d-a313-44b9a60ddfe0",
   "metadata": {},
   "outputs": [],
   "source": [
    "# 저장\n",
    "import json, pickle"
   ]
  },
  {
   "cell_type": "code",
   "execution_count": 126,
   "id": "e8afdbd9-8f7e-4387-bc71-ca8152feb4b6",
   "metadata": {},
   "outputs": [],
   "source": [
    "# 분리한 이유는 import를 먼저 시키고 써야지 뜸"
   ]
  },
  {
   "cell_type": "code",
   "execution_count": 134,
   "id": "9bbc8929-2c35-4adb-95b5-ad2eac25b826",
   "metadata": {},
   "outputs": [],
   "source": [
    "f = open('word.json', 'w')\n",
    "json.dump(word, f)\n",
    "f.close()"
   ]
  },
  {
   "cell_type": "code",
   "execution_count": 135,
   "id": "0cc049ac-0daf-4c0c-961a-7dbe29eb0d1c",
   "metadata": {},
   "outputs": [],
   "source": [
    "f = open('word.json', 'r')\n",
    "word_1 = json.load(f)\n",
    "f.close()"
   ]
  },
  {
   "cell_type": "code",
   "execution_count": 145,
   "id": "ab595833-d6fe-42d3-a0e8-dfbe278419c7",
   "metadata": {},
   "outputs": [
    {
     "data": {
      "text/plain": [
       "['cat', 'dog', 'bee', 'mouse', 'bird']"
      ]
     },
     "execution_count": 145,
     "metadata": {},
     "output_type": "execute_result"
    }
   ],
   "source": [
    "word_1"
   ]
  },
  {
   "cell_type": "code",
   "execution_count": 137,
   "id": "cbb9fcda-0a4b-4802-ba1d-e50d0475c45c",
   "metadata": {},
   "outputs": [],
   "source": [
    "f = open('word.pickle', 'wb')\n",
    "pickle.dump(word, f)\n",
    "f.close()"
   ]
  },
  {
   "cell_type": "code",
   "execution_count": 143,
   "id": "580178f3-f180-4d56-9156-e42b089a011c",
   "metadata": {},
   "outputs": [],
   "source": [
    "f = open('word.pickle', 'rb')\n",
    "word_2 = pickle.load(f)\n",
    "f.close()"
   ]
  },
  {
   "cell_type": "code",
   "execution_count": 146,
   "id": "a3b3927e-df0b-4db9-9614-26bc4ff5ea10",
   "metadata": {},
   "outputs": [
    {
     "data": {
      "text/plain": [
       "['cat', 'dog', 'bee', 'mouse', 'bird']"
      ]
     },
     "execution_count": 146,
     "metadata": {},
     "output_type": "execute_result"
    }
   ],
   "source": [
    "word_2"
   ]
  },
  {
   "cell_type": "code",
   "execution_count": 156,
   "id": "daed4cad-4ef5-4983-83d7-5d240cf0b6f3",
   "metadata": {},
   "outputs": [],
   "source": [
    "import time"
   ]
  },
  {
   "cell_type": "code",
   "execution_count": 158,
   "id": "12e3ea77-5589-4188-ab85-4ac3c3db8a2e",
   "metadata": {},
   "outputs": [
    {
     "data": {
      "text/plain": [
       "1656385036.349219"
      ]
     },
     "execution_count": 158,
     "metadata": {},
     "output_type": "execute_result"
    }
   ],
   "source": [
    "time.time() #특정일자부터 시작해서 지나간 초의 값"
   ]
  },
  {
   "cell_type": "code",
   "execution_count": 175,
   "id": "5c813b22-cc64-44ec-a7d9-041567366846",
   "metadata": {},
   "outputs": [
    {
     "data": {
      "text/plain": [
       "['ㄴㄴㄴ', '안선미']"
      ]
     },
     "execution_count": 175,
     "metadata": {},
     "output_type": "execute_result"
    }
   ],
   "source": [
    "rank = {'안선미': 7.4249420166015625, 'ㄴㄴㄴ': 9.559124946594238}\n",
    "sorted(rank)"
   ]
  },
  {
   "cell_type": "code",
   "execution_count": 178,
   "id": "21a69b4e-5d92-4f8e-b462-d8711e9234d1",
   "metadata": {},
   "outputs": [
    {
     "data": {
      "text/plain": [
       "dict_items([('안선미', 7.4249420166015625), ('ㄴㄴㄴ', 9.559124946594238)])"
      ]
     },
     "execution_count": 178,
     "metadata": {},
     "output_type": "execute_result"
    }
   ],
   "source": [
    "rank.items()"
   ]
  },
  {
   "cell_type": "code",
   "execution_count": 180,
   "id": "d5e33714-ad5c-4733-9944-7dac15998ffa",
   "metadata": {},
   "outputs": [
    {
     "data": {
      "text/plain": [
       "[('안선미', 7.4249420166015625), ('ㄴㄴㄴ', 9.559124946594238)]"
      ]
     },
     "execution_count": 180,
     "metadata": {},
     "output_type": "execute_result"
    }
   ],
   "source": [
    "sorted(rank.items(), key=lambda x : x[1])"
   ]
  },
  {
   "cell_type": "code",
   "execution_count": 189,
   "id": "60800a50-9f7d-40b9-a189-aa66e8c42e1a",
   "metadata": {
    "tags": []
   },
   "outputs": [
    {
     "name": "stdin",
     "output_type": "stream",
     "text": [
      "\n",
      "-------------------------------------------------------------\n",
      "1. 게임    2. 문제 추가    3. 문제 저장    4. 등수 리스트    5. 종료\n",
      "-------------------------------------------------------------\n",
      ">>>  4\n"
     ]
    },
    {
     "name": "stdout",
     "output_type": "stream",
     "text": [
      "등수 리스트\n",
      "1등 안선미 시간: 7.424942\n",
      "2등 ㄴㄴㄴ 시간: 9.559125\n"
     ]
    },
    {
     "name": "stdin",
     "output_type": "stream",
     "text": [
      "\n",
      "-------------------------------------------------------------\n",
      "1. 게임    2. 문제 추가    3. 문제 저장    4. 등수 리스트    5. 종료\n",
      "-------------------------------------------------------------\n",
      ">>>  5\n"
     ]
    },
    {
     "name": "stdout",
     "output_type": "stream",
     "text": [
      "프로그램 종료\n"
     ]
    }
   ],
   "source": [
    "import json\n",
    "# word = []\n",
    "\n",
    "f = open('word.json', 'r')\n",
    "word = json.load(f)\n",
    "word = ['cat', 'dog', 'bee', 'mouse', 'bird']\n",
    "f.close()\n",
    "\n",
    "rank = {'안선미': 7.4249420166015625, 'ㄴㄴㄴ': 9.559124946594238}\n",
    "\n",
    "menu_display = '''\n",
    "-------------------------------------------------------------\n",
    "1. 게임    2. 문제 추가    3. 문제 저장    4. 등수 리스트    5. 종료\n",
    "-------------------------------------------------------------\n",
    ">>> '''\n",
    "\n",
    "while True:\n",
    "    menu = input(menu_display)\n",
    "    if menu == '1':\n",
    "        print('게임시작')\n",
    "        start = time.time()\n",
    "        n = 1\n",
    "        quiz = random.choice(word)\n",
    "        while n <= 5:\n",
    "            print(f'{n}번')\n",
    "            print(quiz)\n",
    "            result = input('>>>')\n",
    "            if quiz == result:\n",
    "                print('통과')\n",
    "                n += 1\n",
    "                quiz = random.choice(word)\n",
    "            else :\n",
    "                print('실패, 다시 도전')\n",
    "        print('모두 맞추셨습니다')\n",
    "        end = time.time()\n",
    "        print(f'걸린 시간 : {end - start:.0f}초')\n",
    "        name = input('이름을 입력하세요')\n",
    "        rank[name] = end - start\n",
    "        print(rank)\n",
    "        #1\n",
    "        \n",
    "    elif menu == '2':\n",
    "        print('문제 추가')\n",
    "        while True:\n",
    "            data = input('(종료:enter)문제를 추가하세요')\n",
    "            if data == '':\n",
    "                break\n",
    "            word.append(data)\n",
    "            print(word)\n",
    "            #2\n",
    "            \n",
    "    elif menu == '3':\n",
    "        print('문제 저장')\n",
    "    elif menu == '4':\n",
    "        print('등수 리스트')\n",
    "        for index, (k, v) in enumerate(sorted(rank.items(), key = lambda x : x[1])):\n",
    "            print(f'{index + 1}등 {k} 시간: {v:0f}')\n",
    "        #4\n",
    "        \n",
    "    elif menu == '5':\n",
    "        print('프로그램 종료')\n",
    "        f = open('word.json', 'w')\n",
    "        json.dump(word, f)\n",
    "        f.close()\n",
    "        break\n",
    "    else:\n",
    "        print('메뉴를 잘못 선택하셨습니다')"
   ]
  },
  {
   "cell_type": "code",
   "execution_count": 150,
   "id": "fe1a2b9b-f56e-4e53-aaf4-24bb4c4c525c",
   "metadata": {},
   "outputs": [
    {
     "data": {
      "text/plain": [
       "['cat', 'dog', 'bee', 'mouse', 'bird', '나무', '5']"
      ]
     },
     "execution_count": 150,
     "metadata": {},
     "output_type": "execute_result"
    }
   ],
   "source": [
    "word"
   ]
  },
  {
   "cell_type": "code",
   "execution_count": 152,
   "id": "8b1dc886-138b-4909-8b69-c35264d2481f",
   "metadata": {},
   "outputs": [],
   "source": [
    "word.remove('5')"
   ]
  },
  {
   "cell_type": "code",
   "execution_count": 154,
   "id": "1e06314d-a441-4323-ab95-deed6106c520",
   "metadata": {},
   "outputs": [
    {
     "data": {
      "text/plain": [
       "['cat', 'dog', 'bee', 'mouse', 'bird', '나무']"
      ]
     },
     "execution_count": 154,
     "metadata": {},
     "output_type": "execute_result"
    }
   ],
   "source": [
    "word"
   ]
  },
  {
   "cell_type": "raw",
   "id": "3beb8155-8dbc-4df2-9f8d-682fcdd61046",
   "metadata": {},
   "source": [
    "# 커피자판기\n",
    "1. 커피 자판기 2. 메뉴 추가 3. 메뉴 삭제 4. 메뉴 목록 5. 종료\n",
    "- 프로그램이 시작될 때 필요한 정보를 읽어서 시작\n",
    "- 커피자판기 무한 반복하면서 돈을 입력 받고 메뉴를 선택해서 처리\n",
    "- 메뉴 추가는 자판기에서 판매하는 메뉴를 추가하는 기능(메뉴명, 가격 >> 저장)\n",
    "- 메뉴 삭제는 전체 목록을 보여주고 삭제하고자 하는 항목을 선택하여 삭제 처리\n",
    "- 메뉴 목록은 메뉴 이름순, 가격순으로 정렬해서 보여줌\n",
    "- 종료는 저장할 정보가 있으면 저장하고 종료"
   ]
  },
  {
   "cell_type": "code",
   "execution_count": 236,
   "id": "2f6192be-96cb-4d3c-8564-4c5ca663321a",
   "metadata": {},
   "outputs": [
    {
     "name": "stdin",
     "output_type": "stream",
     "text": [
      "\n",
      "--------------------------------------------------------\n",
      "1. 커피 자판기 2. 메뉴 추가 3. 메뉴 삭제 4. 메뉴 목록 5. 종료\n",
      "--------------------------------------------------------\n",
      ">>>\n",
      " 1\n"
     ]
    },
    {
     "name": "stdout",
     "output_type": "stream",
     "text": [
      "커피 뽑기\n",
      "아이스아메리카노:2,000원 라떼:3,500원 미숫가루:3,000원 흑임자:3,200원 \n"
     ]
    },
    {
     "name": "stdin",
     "output_type": "stream",
     "text": [
      "메뉴선택(종료:enter) >>> 라뗴\n",
      "금액 투입 >>> 3500\n"
     ]
    },
    {
     "name": "stdout",
     "output_type": "stream",
     "text": [
      "아이스아메리카노:2,000원 라떼:3,500원 미숫가루:3,000원 흑임자:3,200원 \n"
     ]
    },
    {
     "name": "stdin",
     "output_type": "stream",
     "text": [
      "메뉴선택(종료:enter) >>> \n",
      "금액 투입 >>> \n"
     ]
    },
    {
     "ename": "ValueError",
     "evalue": "invalid literal for int() with base 10: ''",
     "output_type": "error",
     "traceback": [
      "\u001b[0;31m---------------------------------------------------------------------------\u001b[0m",
      "\u001b[0;31mValueError\u001b[0m                                Traceback (most recent call last)",
      "Input \u001b[0;32mIn [236]\u001b[0m, in \u001b[0;36m<cell line: 14>\u001b[0;34m()\u001b[0m\n\u001b[1;32m     21\u001b[0m \u001b[38;5;28mprint\u001b[39m()\n\u001b[1;32m     22\u001b[0m choice \u001b[38;5;241m=\u001b[39m \u001b[38;5;28minput\u001b[39m(\u001b[38;5;124m'\u001b[39m\u001b[38;5;124m메뉴선택(종료:enter) >>>\u001b[39m\u001b[38;5;124m'\u001b[39m)\n\u001b[0;32m---> 23\u001b[0m money \u001b[38;5;241m=\u001b[39m \u001b[38;5;28;43mint\u001b[39;49m\u001b[43m(\u001b[49m\u001b[38;5;28;43minput\u001b[39;49m\u001b[43m(\u001b[49m\u001b[38;5;124;43m'\u001b[39;49m\u001b[38;5;124;43m금액 투입 >>>\u001b[39;49m\u001b[38;5;124;43m'\u001b[39;49m\u001b[43m)\u001b[49m\u001b[43m)\u001b[49m\n\u001b[1;32m     24\u001b[0m \u001b[38;5;28;01mif\u001b[39;00m choice \u001b[38;5;129;01min\u001b[39;00m item\u001b[38;5;241m.\u001b[39mkeys():\n\u001b[1;32m     25\u001b[0m     \u001b[38;5;28;01mif\u001b[39;00m money \u001b[38;5;241m>\u001b[39m\u001b[38;5;241m=\u001b[39m item[choice]:\n",
      "\u001b[0;31mValueError\u001b[0m: invalid literal for int() with base 10: ''"
     ]
    }
   ],
   "source": [
    "item = {'아이스아메리카노' : 2000,\n",
    "       '라떼' : 3500,\n",
    "       '미숫가루' : 3000,\n",
    "       '흑임자' : 3200\n",
    "       }\n",
    "menu_display = '''\n",
    "--------------------------------------------------------\n",
    "1. 커피 자판기 2. 메뉴 추가 3. 메뉴 삭제 4. 메뉴 목록 5. 종료\n",
    "--------------------------------------------------------\n",
    ">>>\n",
    "'''\n",
    "\n",
    "while True:\n",
    "    menus = input(menu_display)\n",
    "    if menus == '1':\n",
    "        print('커피 뽑기')\n",
    "        choice = '선택한 메뉴' # 비어있으면 false / 뭔가 들어있으면 true\n",
    "        while choice:\n",
    "            for k, v in item.items():\n",
    "                print(f'{k}:{v:,}원', end=' ')\n",
    "            print()\n",
    "            choice = input('메뉴선택(종료:enter) >>>')\n",
    "            money = int(input('금액 투입 >>>'))\n",
    "            if choice in item.keys():\n",
    "                if money >= item[choice]:\n",
    "                    money -= item[choice]\n",
    "                    print(f'{choice} 서비스 합니다. 거스름돈은 {money}원입니다')\n",
    "                else:\n",
    "                    print('해당 메뉴가 없습니다')\n",
    "        \n",
    "    elif menus == '2':\n",
    "        print('메뉴 추가')\n",
    "        menu_name = input('메뉴명 >>>') \n",
    "        menu_price = ''\n",
    "        while not menu_price.isdigit():\n",
    "            menu_price = input('메뉴가격 >>>')\n",
    "        menu_price = int(menu_price)\n",
    "            \n",
    "        if menu_name in item.keys():\n",
    "            print(f'{menu_name}메뉴가 있습니다 수정합니다')\n",
    "        else:\n",
    "            print(f'{menu_name}메뉴를 추가합니다')\n",
    "        item[menu_name] = menu_price\n",
    "        print(item)\n",
    "        \n",
    "    elif menus == '3':\n",
    "        print('메뉴 삭제')\n",
    "        menu_name = input('삭제하려는 메뉴명을 입력하세요')\n",
    "        if menu_name in item.keys():\n",
    "            print(f'{menu_name}을 삭제합니다')\n",
    "            del item[menu_name]\n",
    "        else:\n",
    "            print(f'{menu_name}이 없습니다')\n",
    "        print(item)\n",
    "            \n",
    "    elif menus == '4':\n",
    "        print('메뉴 목록')\n",
    "        menu_1 = input('1. 메뉴이름순 2. 메뉴가격순 >>>')\n",
    "        if menu_1 == '1':\n",
    "            for k, v in sorted(item.items(), key = lambda x : x[0]):\n",
    "                print(f'{k:25} : {v:10,}원')\n",
    "        elif menu_1 == '2':\n",
    "            for k, v in sorted(item.items(), key = lambda x : x[1]):\n",
    "                print(f'{k:25} : {v:10,}원')\n",
    "    elif menus == '5':\n",
    "        print('종료')\n",
    "        break"
   ]
  },
  {
   "cell_type": "code",
   "execution_count": 217,
   "id": "6a2f5e6b-f6de-41c4-8c23-92c377cd8b59",
   "metadata": {},
   "outputs": [
    {
     "data": {
      "text/plain": [
       "{}"
      ]
     },
     "execution_count": 217,
     "metadata": {},
     "output_type": "execute_result"
    }
   ],
   "source": [
    "item"
   ]
  },
  {
   "cell_type": "code",
   "execution_count": null,
   "id": "a29d53b5-a88f-4625-9e01-02e6b7665552",
   "metadata": {},
   "outputs": [],
   "source": []
  }
 ],
 "metadata": {
  "kernelspec": {
   "display_name": "Python 3 (ipykernel)",
   "language": "python",
   "name": "python3"
  },
  "language_info": {
   "codemirror_mode": {
    "name": "ipython",
    "version": 3
   },
   "file_extension": ".py",
   "mimetype": "text/x-python",
   "name": "python",
   "nbconvert_exporter": "python",
   "pygments_lexer": "ipython3",
   "version": "3.9.12"
  }
 },
 "nbformat": 4,
 "nbformat_minor": 5
}

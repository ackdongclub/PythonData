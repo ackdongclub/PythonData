{
 "cells": [
  {
   "cell_type": "code",
   "execution_count": 1,
   "id": "fae2df91-e1ae-45c8-af26-6da161057b26",
   "metadata": {},
   "outputs": [],
   "source": [
    "def two_times(numberList):\n",
    "    result = []\n",
    "    for number in numberList:\n",
    "        result.append(number * 2)\n",
    "    return result"
   ]
  },
  {
   "cell_type": "code",
   "execution_count": 2,
   "id": "8cc75aab-8f95-4253-952f-75eb034fc74f",
   "metadata": {},
   "outputs": [],
   "source": [
    "numberList = [1, 2, 3, 4, 5]"
   ]
  },
  {
   "cell_type": "code",
   "execution_count": 3,
   "id": "a4e7fee5-43f5-4019-aa0e-8ee193ace0ed",
   "metadata": {},
   "outputs": [
    {
     "data": {
      "text/plain": [
       "[2, 4, 6, 8, 10]"
      ]
     },
     "execution_count": 3,
     "metadata": {},
     "output_type": "execute_result"
    }
   ],
   "source": [
    "two_times(numberList)"
   ]
  },
  {
   "cell_type": "code",
   "execution_count": 4,
   "id": "6d2aace5-8969-4609-a3ed-4ac251b97c26",
   "metadata": {},
   "outputs": [],
   "source": [
    "def two_times(x):\n",
    "    return x * 2"
   ]
  },
  {
   "cell_type": "code",
   "execution_count": 6,
   "id": "4ef649d0-9173-4684-9b8f-a674b8360b00",
   "metadata": {},
   "outputs": [
    {
     "data": {
      "text/plain": [
       "[2, 4, 6, 8, 10]"
      ]
     },
     "execution_count": 6,
     "metadata": {},
     "output_type": "execute_result"
    }
   ],
   "source": [
    "list(map(two_times, numberList))"
   ]
  },
  {
   "cell_type": "code",
   "execution_count": 7,
   "id": "4434de76-15d3-46aa-9ca6-6bfaf5006cc3",
   "metadata": {},
   "outputs": [],
   "source": [
    "names = ['홍길동', '박철수', '김나리']\n",
    "# 안녕하세요 {}고객님"
   ]
  },
  {
   "cell_type": "code",
   "execution_count": 18,
   "id": "455b6f67-380f-45e8-81b5-45b0cbaef884",
   "metadata": {},
   "outputs": [],
   "source": [
    "def hello(x):\n",
    "    return '안녕하세요 ' + x + '고객님'"
   ]
  },
  {
   "cell_type": "code",
   "execution_count": 19,
   "id": "75dad168-a739-40a7-93f8-52028fb4cc4a",
   "metadata": {},
   "outputs": [
    {
     "data": {
      "text/plain": [
       "['안녕하세요 홍길동고객님', '안녕하세요 박철수고객님', '안녕하세요 김나리고객님']"
      ]
     },
     "execution_count": 19,
     "metadata": {},
     "output_type": "execute_result"
    }
   ],
   "source": [
    "list(map(hello, names))"
   ]
  },
  {
   "cell_type": "code",
   "execution_count": 26,
   "id": "7fa0d407-82be-49d0-8c0d-7e2f78a57e23",
   "metadata": {},
   "outputs": [],
   "source": [
    "names = ['홍길동', '박철수', '김나리']\n",
    "score = [40, 50, 70, 46]\n",
    "score1 = [50, 65, 98, 77]"
   ]
  },
  {
   "cell_type": "code",
   "execution_count": 27,
   "id": "489b9a09-6359-400a-b7ec-4831adb1926d",
   "metadata": {},
   "outputs": [
    {
     "data": {
      "text/plain": [
       "[('홍길동', 40, 50), ('박철수', 50, 65), ('김나리', 70, 98)]"
      ]
     },
     "execution_count": 27,
     "metadata": {},
     "output_type": "execute_result"
    }
   ],
   "source": [
    "list(zip(names, score, score1))"
   ]
  },
  {
   "cell_type": "code",
   "execution_count": null,
   "id": "210ad95e-14f7-4277-acf3-81e155fd70fc",
   "metadata": {},
   "outputs": [],
   "source": []
  }
 ],
 "metadata": {
  "kernelspec": {
   "display_name": "Python 3 (ipykernel)",
   "language": "python",
   "name": "python3"
  },
  "language_info": {
   "codemirror_mode": {
    "name": "ipython",
    "version": 3
   },
   "file_extension": ".py",
   "mimetype": "text/x-python",
   "name": "python",
   "nbconvert_exporter": "python",
   "pygments_lexer": "ipython3",
   "version": "3.9.12"
  }
 },
 "nbformat": 4,
 "nbformat_minor": 5
}
